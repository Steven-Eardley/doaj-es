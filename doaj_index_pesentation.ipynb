{
 "cells": [
  {
   "cell_type": "markdown",
   "metadata": {
    "pycharm": {
     "name": "#%% md\n"
    }
   },
   "source": [
    "# DOAJ Elasticsearch / Indexing Presentation\n",
    "Steve, Cottage Labs, 2022\n",
    "\n",
    "Here I will cover the basics of our ElasticSearch document store, indexes in general, and its use and consequences for our system.\n",
    "\n",
    "Elasticsearch runs on a separate machine to the DOAJ application, in production my first step is use the firewall to ensure only the right machines can talk to it. It stores all of our dynamic data, including our users, which contains personally identifiable info such as email addresses. Therefore it's a private network connecting our machines - meaning not over the internet.\n",
    "\n",
    "Here I'll use Docker to produce two elasticsearch hosts here on my laptop, and connect to them with Python so I can demonstrate what an index does for us."
   ]
  },
  {
   "cell_type": "code",
   "execution_count": 2,
   "metadata": {
    "pycharm": {
     "name": "#%%\n"
    }
   },
   "outputs": [],
   "source": [
    "import json\n",
    "from datetime import datetime\n",
    "from uuid import uuid4\n",
    "from copy import deepcopy\n",
    "\n",
    "import fixtures\n",
    "\n",
    "import elasticsearch\n",
    "es1 = {'scheme': 'http', 'host': 'localhost', 'port': 9201}\n",
    "es2 = {'scheme': 'http', 'host': 'localhost', 'port': 9202}\n",
    "es = elasticsearch.Elasticsearch([es1, es2])"
   ]
  },
  {
   "cell_type": "code",
   "execution_count": 9,
   "metadata": {
    "pycharm": {
     "name": "#%%\n"
    }
   },
   "outputs": [
    {
     "data": {
      "text/plain": "{'acknowledged': True, 'shards_acknowledged': True, 'index': 'doaj-es-demo'}"
     },
     "execution_count": 9,
     "metadata": {},
     "output_type": "execute_result"
    }
   ],
   "source": [
    "if es.indices.get(index='doaj-es-demo'):\n",
    "    es.indices.delete(index='doaj-es-demo')\n",
    "es.indices.create(index='doaj-es-demo')"
   ]
  },
  {
   "cell_type": "markdown",
   "metadata": {
    "pycharm": {
     "name": "#%% md\n"
    }
   },
   "source": [
    "## An index is different from a database\n",
    "\n",
    "A database is a table - much like a spreadsheet, it has headers and rows for all of the data.\n",
    "\n",
    "| ID  | Title                              | ISSN      |\n",
    "|-----|------------------------------------|-----------|\n",
    "| 001 | Journal of Spoons                  | 1234-5678 |\n",
    "| 002 | Analytical Knitting                | 9876-5432 |\n",
    "| 003 | Journal of Trivial Household Items | 1010-000X |\n",
    "| 004 | Journal of Slow Growing Succulates | 3333-7777 |\n",
    "| 005 | Humerous Taxidermy                 | 2468-1012 |\n",
    "\n",
    "In a very basic database, you'd retrieve the full record with ISSN 9876-5432 by going through all of the rows, comparing the query with the value in the corresponding column. It's like reading the whole book to find the chapter you're interested in. Then you'd pull out the record by its ID.\n",
    "\n",
    "Like in a book, an index allows you to search more efficiently by directly pointing the interesting information to the ID of the record - it's less to search through, but also it can be organised for efficient searching, e.g. by doing a binary search (all the ISSNs starting with odd number, and so on) you'd be faster than looking through all of the records.\n",
    "\n",
    "### Structured vs unstructured data\n",
    "\n",
    "In our records table above, we have 3 fields - the ID, the Title, and the ISSN. Since we know how long ISSNs are we can make our database more efficient by explicitly specifying how much data that row can take. We need to specify the size and type of data when we create the table.\n",
    "\n",
    "In ElasticSearch and other document indexes, we store the records in a different format, namely JSON - JavaScript Object Notation. This is also similar to how objects look in Python. For example:"
   ]
  },
  {
   "cell_type": "code",
   "execution_count": 10,
   "outputs": [
    {
     "data": {
      "text/plain": "[{'_index': 'doaj-es-demo',\n  '_type': '_doc',\n  '_id': '1',\n  '_version': 1,\n  'result': 'created',\n  '_shards': {'total': 2, 'successful': 1, 'failed': 0},\n  '_seq_no': 0,\n  '_primary_term': 1},\n {'_index': 'doaj-es-demo',\n  '_type': '_doc',\n  '_id': '2',\n  '_version': 1,\n  'result': 'created',\n  '_shards': {'total': 2, 'successful': 1, 'failed': 0},\n  '_seq_no': 1,\n  '_primary_term': 1},\n {'_index': 'doaj-es-demo',\n  '_type': '_doc',\n  '_id': '3',\n  '_version': 1,\n  'result': 'created',\n  '_shards': {'total': 2, 'successful': 1, 'failed': 0},\n  '_seq_no': 2,\n  '_primary_term': 1},\n {'_index': 'doaj-es-demo',\n  '_type': '_doc',\n  '_id': '4',\n  '_version': 1,\n  'result': 'created',\n  '_shards': {'total': 2, 'successful': 1, 'failed': 0},\n  '_seq_no': 3,\n  '_primary_term': 1},\n {'_index': 'doaj-es-demo',\n  '_type': '_doc',\n  '_id': '5',\n  '_version': 1,\n  'result': 'created',\n  '_shards': {'total': 2, 'successful': 1, 'failed': 0},\n  '_seq_no': 4,\n  '_primary_term': 1}]"
     },
     "execution_count": 10,
     "metadata": {},
     "output_type": "execute_result"
    }
   ],
   "source": [
    "table = [\n",
    "    {'ID': 1, 'Title': 'Journal of Spoons', 'ISSN': '1234-5678'},\n",
    "    {'ID': 2, 'Title': 'Analytical Knitting', 'ISSN': '9876-5432'},\n",
    "    {'ID': 3, 'Title': 'Journal of Trivial Household Items', 'ISSN': '1010-000X'},\n",
    "    {'ID': 4, 'Title': 'Journal of Slow Growing Succulates', 'ISSN': '3333-7777'},\n",
    "    {'ID': 5, 'Title': 'Humerous Taxidermy', 'ISSN': '2468-1012'}\n",
    "]\n",
    "\n",
    "# Put the data in the index one record at a time\n",
    "[es.create(index='doaj-es-demo', body=json.dumps(row), id=row['ID']) for row in table]\n"
   ],
   "metadata": {
    "collapsed": false,
    "pycharm": {
     "name": "#%%\n"
    }
   }
  },
  {
   "cell_type": "code",
   "execution_count": 11,
   "outputs": [
    {
     "data": {
      "text/plain": "{'took': 8,\n 'timed_out': False,\n '_shards': {'total': 1, 'successful': 1, 'skipped': 0, 'failed': 0},\n 'hits': {'total': {'value': 5, 'relation': 'eq'},\n  'max_score': 1.0,\n  'hits': [{'_index': 'doaj-es-demo',\n    '_type': '_doc',\n    '_id': '1',\n    '_score': 1.0,\n    '_source': {'ID': 1, 'Title': 'Journal of Spoons', 'ISSN': '1234-5678'}},\n   {'_index': 'doaj-es-demo',\n    '_type': '_doc',\n    '_id': '2',\n    '_score': 1.0,\n    '_source': {'ID': 2, 'Title': 'Analytical Knitting', 'ISSN': '9876-5432'}},\n   {'_index': 'doaj-es-demo',\n    '_type': '_doc',\n    '_id': '3',\n    '_score': 1.0,\n    '_source': {'ID': 3,\n     'Title': 'Journal of Trivial Household Items',\n     'ISSN': '1010-000X'}},\n   {'_index': 'doaj-es-demo',\n    '_type': '_doc',\n    '_id': '4',\n    '_score': 1.0,\n    '_source': {'ID': 4,\n     'Title': 'Journal of Slow Growing Succulates',\n     'ISSN': '3333-7777'}},\n   {'_index': 'doaj-es-demo',\n    '_type': '_doc',\n    '_id': '5',\n    '_score': 1.0,\n    '_source': {'ID': 5,\n     'Title': 'Humerous Taxidermy',\n     'ISSN': '2468-1012'}}]}}"
     },
     "execution_count": 11,
     "metadata": {},
     "output_type": "execute_result"
    }
   ],
   "source": [
    "es.search({'query': {'match_all': {}}}, index='doaj-es-demo')"
   ],
   "metadata": {
    "collapsed": false,
    "pycharm": {
     "name": "#%%\n"
    }
   }
  },
  {
   "cell_type": "code",
   "execution_count": null,
   "outputs": [],
   "source": [],
   "metadata": {
    "collapsed": false,
    "pycharm": {
     "name": "#%%\n"
    }
   }
  }
 ],
 "metadata": {
  "kernelspec": {
   "display_name": "Python 3 (ipykernel)",
   "language": "python",
   "name": "python3"
  },
  "language_info": {
   "codemirror_mode": {
    "name": "ipython",
    "version": 3
   },
   "file_extension": ".py",
   "mimetype": "text/x-python",
   "name": "python",
   "nbconvert_exporter": "python",
   "pygments_lexer": "ipython3",
   "version": "3.9.7"
  }
 },
 "nbformat": 4,
 "nbformat_minor": 1
}