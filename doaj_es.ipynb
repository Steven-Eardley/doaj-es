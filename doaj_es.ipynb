{
 "cells": [
  {
   "cell_type": "markdown",
   "metadata": {
    "collapsed": true,
    "pycharm": {
     "name": "#%% md\n"
    }
   },
   "source": [
    "Prerequisites: ES cluster to talk to (docker or local)\n",
    "To start the docker elasticsearch cluster, first increase virtual memory available:\n",
    "\n",
    "temporarily with `sysctl -w vm.max_map_count=262144`\n",
    "or permanently via setting:\n",
    "`vm.max_map_count` to `262144` in `/etc/sysctl.conf`\n",
    "\n",
    "then:\n",
    "\n",
    "    docker-compose up\n",
    "\n",
    "(in virtualenv) `pip install elasticsearch jupyter`"
   ]
  },
  {
   "cell_type": "code",
   "execution_count": 41,
   "outputs": [],
   "source": [
    "from datetime import datetime\n",
    "from uuid import uuid4\n",
    "from copy import deepcopy\n",
    "\n",
    "import elasticsearch\n",
    "es1 = {'host': 'localhost', 'port': 9201}\n",
    "es2 = {'host': 'localhost', 'port': 9202}\n",
    "es = elasticsearch.Elasticsearch([es1, es2])"
   ],
   "metadata": {
    "collapsed": false,
    "pycharm": {
     "name": "#%%\n"
    }
   }
  },
  {
   "cell_type": "markdown",
   "source": [
    "### Check we have redundancy:\n",
    "\n",
    "Notice we talk to both hosts"
   ],
   "metadata": {
    "collapsed": false,
    "pycharm": {
     "name": "#%% md\n"
    }
   }
  },
  {
   "cell_type": "code",
   "execution_count": 8,
   "outputs": [
    {
     "name": "stdout",
     "output_type": "stream",
     "text": [
      "{'name': 'es01', 'cluster_name': 'es-docker-cluster', 'cluster_uuid': 'y2M8TuB0RhGkyhL5UZ_X6A', 'version': {'number': '7.10.0', 'build_flavor': 'default', 'build_type': 'docker', 'build_hash': '51e9d6f22758d0374a0f3f5c6e8f3a7997850f96', 'build_date': '2020-11-09T21:30:33.964949Z', 'build_snapshot': False, 'lucene_version': '8.7.0', 'minimum_wire_compatibility_version': '6.8.0', 'minimum_index_compatibility_version': '6.0.0-beta1'}, 'tagline': 'You Know, for Search'}\n",
      "{'name': 'es02', 'cluster_name': 'es-docker-cluster', 'cluster_uuid': 'y2M8TuB0RhGkyhL5UZ_X6A', 'version': {'number': '7.10.0', 'build_flavor': 'default', 'build_type': 'docker', 'build_hash': '51e9d6f22758d0374a0f3f5c6e8f3a7997850f96', 'build_date': '2020-11-09T21:30:33.964949Z', 'build_snapshot': False, 'lucene_version': '8.7.0', 'minimum_wire_compatibility_version': '6.8.0', 'minimum_index_compatibility_version': '6.0.0-beta1'}, 'tagline': 'You Know, for Search'}\n",
      "{'name': 'es01', 'cluster_name': 'es-docker-cluster', 'cluster_uuid': 'y2M8TuB0RhGkyhL5UZ_X6A', 'version': {'number': '7.10.0', 'build_flavor': 'default', 'build_type': 'docker', 'build_hash': '51e9d6f22758d0374a0f3f5c6e8f3a7997850f96', 'build_date': '2020-11-09T21:30:33.964949Z', 'build_snapshot': False, 'lucene_version': '8.7.0', 'minimum_wire_compatibility_version': '6.8.0', 'minimum_index_compatibility_version': '6.0.0-beta1'}, 'tagline': 'You Know, for Search'}\n",
      "{'name': 'es02', 'cluster_name': 'es-docker-cluster', 'cluster_uuid': 'y2M8TuB0RhGkyhL5UZ_X6A', 'version': {'number': '7.10.0', 'build_flavor': 'default', 'build_type': 'docker', 'build_hash': '51e9d6f22758d0374a0f3f5c6e8f3a7997850f96', 'build_date': '2020-11-09T21:30:33.964949Z', 'build_snapshot': False, 'lucene_version': '8.7.0', 'minimum_wire_compatibility_version': '6.8.0', 'minimum_index_compatibility_version': '6.0.0-beta1'}, 'tagline': 'You Know, for Search'}\n",
      "{'name': 'es01', 'cluster_name': 'es-docker-cluster', 'cluster_uuid': 'y2M8TuB0RhGkyhL5UZ_X6A', 'version': {'number': '7.10.0', 'build_flavor': 'default', 'build_type': 'docker', 'build_hash': '51e9d6f22758d0374a0f3f5c6e8f3a7997850f96', 'build_date': '2020-11-09T21:30:33.964949Z', 'build_snapshot': False, 'lucene_version': '8.7.0', 'minimum_wire_compatibility_version': '6.8.0', 'minimum_index_compatibility_version': '6.0.0-beta1'}, 'tagline': 'You Know, for Search'}\n",
      "{'name': 'es02', 'cluster_name': 'es-docker-cluster', 'cluster_uuid': 'y2M8TuB0RhGkyhL5UZ_X6A', 'version': {'number': '7.10.0', 'build_flavor': 'default', 'build_type': 'docker', 'build_hash': '51e9d6f22758d0374a0f3f5c6e8f3a7997850f96', 'build_date': '2020-11-09T21:30:33.964949Z', 'build_snapshot': False, 'lucene_version': '8.7.0', 'minimum_wire_compatibility_version': '6.8.0', 'minimum_index_compatibility_version': '6.0.0-beta1'}, 'tagline': 'You Know, for Search'}\n",
      "{'name': 'es01', 'cluster_name': 'es-docker-cluster', 'cluster_uuid': 'y2M8TuB0RhGkyhL5UZ_X6A', 'version': {'number': '7.10.0', 'build_flavor': 'default', 'build_type': 'docker', 'build_hash': '51e9d6f22758d0374a0f3f5c6e8f3a7997850f96', 'build_date': '2020-11-09T21:30:33.964949Z', 'build_snapshot': False, 'lucene_version': '8.7.0', 'minimum_wire_compatibility_version': '6.8.0', 'minimum_index_compatibility_version': '6.0.0-beta1'}, 'tagline': 'You Know, for Search'}\n",
      "{'name': 'es02', 'cluster_name': 'es-docker-cluster', 'cluster_uuid': 'y2M8TuB0RhGkyhL5UZ_X6A', 'version': {'number': '7.10.0', 'build_flavor': 'default', 'build_type': 'docker', 'build_hash': '51e9d6f22758d0374a0f3f5c6e8f3a7997850f96', 'build_date': '2020-11-09T21:30:33.964949Z', 'build_snapshot': False, 'lucene_version': '8.7.0', 'minimum_wire_compatibility_version': '6.8.0', 'minimum_index_compatibility_version': '6.0.0-beta1'}, 'tagline': 'You Know, for Search'}\n",
      "{'name': 'es01', 'cluster_name': 'es-docker-cluster', 'cluster_uuid': 'y2M8TuB0RhGkyhL5UZ_X6A', 'version': {'number': '7.10.0', 'build_flavor': 'default', 'build_type': 'docker', 'build_hash': '51e9d6f22758d0374a0f3f5c6e8f3a7997850f96', 'build_date': '2020-11-09T21:30:33.964949Z', 'build_snapshot': False, 'lucene_version': '8.7.0', 'minimum_wire_compatibility_version': '6.8.0', 'minimum_index_compatibility_version': '6.0.0-beta1'}, 'tagline': 'You Know, for Search'}\n"
     ]
    }
   ],
   "source": [
    "for i in range(0, 9):\n",
    "    print(es.info(pretty=True))"
   ],
   "metadata": {
    "collapsed": false,
    "pycharm": {
     "name": "#%%\n"
    }
   }
  },
  {
   "cell_type": "markdown",
   "source": [
    "Now stop one of the hosts (in terminal)\n",
    "\n",
    "    docker stop es01\n",
    "\n",
    "Then run the cell above again. This time it seamlessly connects to es02 each time.\n",
    "Restart the container.\n",
    "\n",
    "    docker start es01"
   ],
   "metadata": {
    "collapsed": false,
    "pycharm": {
     "name": "#%% md\n"
    }
   }
  },
  {
   "cell_type": "code",
   "execution_count": 66,
   "outputs": [
    {
     "data": {
      "text/plain": "{'acknowledged': True}"
     },
     "execution_count": 66,
     "metadata": {},
     "output_type": "execute_result"
    }
   ],
   "source": [
    "# Clear up previous run\n",
    "es.indices.delete('doaj-*') if es.indices.get('doaj-*') else print('Nothing to do')"
   ],
   "metadata": {
    "collapsed": false,
    "pycharm": {
     "name": "#%%\n"
    }
   }
  },
  {
   "cell_type": "markdown",
   "source": [
    "### Creating an index with custom dynamic mapping\n",
    "\n",
    "The dynamic mappings have changed somewhat since ES 1.7. For reference, here's the old\n",
    "default dynamic mapping:\n",
    "```\n",
    "'dynamic_templates': [\n",
    "            {\n",
    "                'default': {\n",
    "                    'match': '*', 'match_mapping_type': 'string', 'mapping': {\n",
    "                        'type': 'multi_field', 'fields': {\n",
    "                            '{name}': {'type': '{dynamic_type}', 'index': 'analyzed', 'store': 'no'},\n",
    "                            'exact': {'type': '{dynamic_type}', 'index': 'not_analyzed', 'store': 'yes'}}\n",
    "                    }\n",
    "                }\n",
    "            }\n",
    "        ]\n",
    "    }\n",
    "```\n",
    "The following gives us an equivalent `.exact` not_analyzed **keyword** field."
   ],
   "metadata": {
    "collapsed": false,
    "pycharm": {
     "name": "#%% md\n"
    }
   }
  },
  {
   "cell_type": "code",
   "execution_count": 67,
   "outputs": [
    {
     "data": {
      "text/plain": "{'acknowledged': True, 'shards_acknowledged': True, 'index': 'doaj-account'}"
     },
     "execution_count": 67,
     "metadata": {},
     "output_type": "execute_result"
    }
   ],
   "source": [
    "CREATE_BODY = {\n",
    "    'aliases': {\n",
    "        'account': {}\n",
    "    },\n",
    "    'mappings': {\n",
    "        'dynamic_templates': [\n",
    "            {\n",
    "                \"strings\": {\n",
    "                    \"match_mapping_type\": \"string\",\n",
    "                    \"mapping\": {\n",
    "                        \"type\": \"text\",\n",
    "                        \"fields\": {\n",
    "                            \"exact\": {\n",
    "                                \"type\": \"keyword\",\n",
    "                                \"normalizer\": \"lowercase\"\n",
    "                            }\n",
    "                        }\n",
    "                    }\n",
    "                }\n",
    "            }\n",
    "        ]\n",
    "    },\n",
    "    'settings': {\n",
    "        'number_of_shards': 4,\n",
    "        'number_of_replicas': 1\n",
    "    }\n",
    "}\n",
    "\n",
    "# todo: do we want to do a check on index init that it has the correct mappings?\n",
    "\n",
    "# Use the create index api with the mapping\n",
    "es.indices.create(index='doaj-account', body=CREATE_BODY)\n"
   ],
   "metadata": {
    "collapsed": false,
    "pycharm": {
     "name": "#%%\n"
    }
   }
  },
  {
   "cell_type": "markdown",
   "source": [
    "### Put some data in the index"
   ],
   "metadata": {
    "collapsed": false
   }
  },
  {
   "cell_type": "code",
   "execution_count": 68,
   "outputs": [
    {
     "data": {
      "text/plain": "{'_index': 'doaj-account',\n '_type': '_doc',\n '_id': 'bob',\n '_version': 1,\n 'result': 'created',\n '_shards': {'total': 2, 'successful': 2, 'failed': 0},\n '_seq_no': 1,\n '_primary_term': 1}"
     },
     "execution_count": 68,
     "metadata": {},
     "output_type": "execute_result"
    }
   ],
   "source": [
    "steve = {\"api_key\": uuid4().hex, \"last_updated\": \"2021-04-27T09:49:11Z\", \"marketing_consent\": False, \"id\": \"steve\", \"role\": [\"admin\", \"api\"], \"created_date\": \"2014-09-10T15:53:50Z\", \"password\": \"pbkdf2:sha256:150000$o6pVxBxY$f8c25903211437b168af63b465c283942a9192f086fa77872a72cdaef0579c91\", \"email\": \"steve@example.com\", \"es_type\": \"account\"}\n",
    "bob =  {\"api_key\": uuid4().hex, \"last_updated\": \"2021-04-27T09:49:11Z\", \"marketing_consent\": False, \"id\": \"bob\", \"role\": [\"publisher\", \"api\"], \"created_date\": \"2014-09-10T15:53:50Z\", \"password\": \"pbkdf2:sha256:150000$o6pVxBxY$f8c25903211437b168af63b465c283942a9192f086fa77872a72cdaef0579c91\", \"email\": \"bob@example.com\", \"es_type\": \"account\"}\n",
    "\n",
    "es.create(index='doaj-account', id='steve', body=steve)\n",
    "es.create(index='doaj-account', id='bob', body=bob)"
   ],
   "metadata": {
    "collapsed": false,
    "pycharm": {
     "name": "#%%\n"
    }
   }
  },
  {
   "cell_type": "code",
   "source": [
    "# An additional create will cause a 409 conflict\n",
    "try:\n",
    "    es.create(index='doaj-account', id='steve', body=steve)\n",
    "except elasticsearch.ConflictError as e:\n",
    "    print(e)"
   ],
   "metadata": {
    "collapsed": false,
    "pycharm": {
     "name": "#%%\n"
    }
   },
   "execution_count": 38,
   "outputs": [
    {
     "name": "stdout",
     "output_type": "stream",
     "text": [
      "ConflictError(409, 'version_conflict_engine_exception', '[steve]: version conflict, document already exists (current version [4])')\n"
     ]
    }
   ]
  },
  {
   "cell_type": "code",
   "execution_count": 40,
   "outputs": [
    {
     "data": {
      "text/plain": "{'_index': 'doaj-account',\n '_type': '_doc',\n '_id': 'steve',\n '_version': 5,\n 'result': 'updated',\n '_shards': {'total': 2, 'successful': 2, 'failed': 0},\n '_seq_no': 5,\n '_primary_term': 1}"
     },
     "execution_count": 40,
     "metadata": {},
     "output_type": "execute_result"
    }
   ],
   "source": [
    "# With correct method es.index\n",
    "steve['last_updated'] = datetime.utcnow().strftime(\"%Y-%m-%dT%H:%M:%SZ\")\n",
    "es.index(index='doaj-account', id='steve', body=steve)"
   ],
   "metadata": {
    "collapsed": false,
    "pycharm": {
     "name": "#%%\n"
    }
   }
  },
  {
   "cell_type": "markdown",
   "source": [
    "### Elasticsearch concurrency control (save validation)\n",
    "https://www.elastic.co/guide/en/elasticsearch/reference/7.10/optimistic-concurrency-control.html\n",
    "\n",
    "Ensure we reject changes when a document has been saved in interim."
   ],
   "metadata": {
    "collapsed": false,
    "pycharm": {
     "name": "#%% md\n"
    }
   }
  },
  {
   "cell_type": "code",
   "execution_count": 52,
   "outputs": [
    {
     "data": {
      "text/plain": "{'_index': 'doaj-account',\n '_type': '_doc',\n '_id': 'bob',\n '_version': 2,\n '_seq_no': 6,\n '_primary_term': 1,\n 'found': True,\n '_source': {'api_key': '92d022188e604648b8f1c69f20ff0b4c',\n  'last_updated': '2021-04-27T09:49:11Z',\n  'marketing_consent': False,\n  'id': 'bob',\n  'role': ['publisher', 'api'],\n  'created_date': '2014-09-10T15:53:50Z',\n  'password': 'pbkdf2:sha256:150000$o6pVxBxY$f8c25903211437b168af63b465c283942a9192f086fa77872a72cdaef0579c91',\n  'email': 'bob@example.com',\n  'es_type': 'account'}}"
     },
     "execution_count": 52,
     "metadata": {},
     "output_type": "execute_result"
    }
   ],
   "source": [
    "bob_retrieved = es.get('doaj-account', id='bob')\n",
    "bob_retrieved"
   ],
   "metadata": {
    "collapsed": false,
    "pycharm": {
     "name": "#%%\n"
    }
   }
  },
  {
   "cell_type": "code",
   "execution_count": 53,
   "outputs": [
    {
     "data": {
      "text/plain": "{'_index': 'doaj-account',\n '_type': '_doc',\n '_id': 'bob',\n '_version': 3,\n 'result': 'updated',\n '_shards': {'total': 2, 'successful': 2, 'failed': 0},\n '_seq_no': 7,\n '_primary_term': 1}"
     },
     "execution_count": 53,
     "metadata": {},
     "output_type": "execute_result"
    }
   ],
   "source": [
    "# Bob's API key is updated before another user is finished updating Bob\n",
    "bob_interjected = deepcopy(bob_retrieved).get('_source')\n",
    "bob_interjected['api_key'] = uuid4().hex\n",
    "es.index('doaj-account', id='bob', body=bob_interjected, if_seq_no=bob_retrieved['_seq_no'], if_primary_term=bob_retrieved['_primary_term'])"
   ],
   "metadata": {
    "collapsed": false,
    "pycharm": {
     "name": "#%%\n"
    }
   }
  },
  {
   "cell_type": "code",
   "execution_count": 57,
   "outputs": [
    {
     "name": "stdout",
     "output_type": "stream",
     "text": [
      "ConflictError(409, 'version_conflict_engine_exception', '[bob]: version conflict, required seqNo [6], primary term [1]. current document has seqNo [7] and primary term [1]')\n"
     ]
    }
   ],
   "source": [
    "# Then we try to carry on with our update of Bob, specifying our sequences as before\n",
    "bob_retrieved['_source']['last_updated'] = datetime.utcnow().strftime(\"%Y-%m-%dT%H:%M:%SZ\")\n",
    "try:\n",
    "    es.index('doaj-account', id='bob', body=bob_retrieved['_source'], if_seq_no=bob_retrieved['_seq_no'], if_primary_term=bob_retrieved['_primary_term'])\n",
    "except elasticsearch.ConflictError as e:\n",
    "    print(e)"
   ],
   "metadata": {
    "collapsed": false,
    "pycharm": {
     "name": "#%%\n"
    }
   }
  },
  {
   "cell_type": "code",
   "execution_count": 59,
   "outputs": [
    {
     "data": {
      "text/plain": "{'_index': 'doaj-account',\n '_type': '_doc',\n '_id': 'bob',\n '_version': 5,\n '_seq_no': 9,\n '_primary_term': 1,\n 'found': True,\n '_source': {'api_key': '92d022188e604648b8f1c69f20ff0b4c',\n  'last_updated': '2021-05-03T20:34:01Z',\n  'marketing_consent': False,\n  'id': 'bob',\n  'role': ['publisher', 'api'],\n  'created_date': '2014-09-10T15:53:50Z',\n  'password': 'pbkdf2:sha256:150000$o6pVxBxY$f8c25903211437b168af63b465c283942a9192f086fa77872a72cdaef0579c91',\n  'email': 'bob@example.com',\n  'es_type': 'account'}}"
     },
     "execution_count": 59,
     "metadata": {},
     "output_type": "execute_result"
    }
   ],
   "source": [
    "# Try again with correct sequence:\n",
    "bob_uptodate = es.get('doaj-account', id='bob')\n",
    "es.index('doaj-account', id='bob', body=bob_retrieved['_source'], if_seq_no=bob_uptodate['_seq_no'], if_primary_term=bob_uptodate['_primary_term'])\n",
    "es.get('doaj-account', id='bob')"
   ],
   "metadata": {
    "collapsed": false,
    "pycharm": {
     "name": "#%%\n"
    }
   }
  },
  {
   "cell_type": "code",
   "execution_count": 69,
   "outputs": [
    {
     "data": {
      "text/plain": "{'took': 15,\n 'timed_out': False,\n '_shards': {'total': 4, 'successful': 4, 'skipped': 0, 'failed': 0},\n 'hits': {'total': {'value': 2, 'relation': 'eq'},\n  'max_score': 1.0,\n  'hits': [{'_index': 'doaj-account',\n    '_type': '_doc',\n    '_id': 'steve',\n    '_score': 1.0,\n    '_source': {'api_key': '19e75ffcb68a4b5d9f5d8ffe4d78b6a5',\n     'last_updated': '2021-04-27T09:49:11Z',\n     'marketing_consent': False,\n     'id': 'steve',\n     'role': ['admin', 'api'],\n     'created_date': '2014-09-10T15:53:50Z',\n     'password': 'pbkdf2:sha256:150000$o6pVxBxY$f8c25903211437b168af63b465c283942a9192f086fa77872a72cdaef0579c91',\n     'email': 'steve@example.com',\n     'es_type': 'account'}},\n   {'_index': 'doaj-account',\n    '_type': '_doc',\n    '_id': 'bob',\n    '_score': 1.0,\n    '_source': {'api_key': 'd75ef6935e2b4fd3851dfc70becff610',\n     'last_updated': '2021-04-27T09:49:11Z',\n     'marketing_consent': False,\n     'id': 'bob',\n     'role': ['publisher', 'api'],\n     'created_date': '2014-09-10T15:53:50Z',\n     'password': 'pbkdf2:sha256:150000$o6pVxBxY$f8c25903211437b168af63b465c283942a9192f086fa77872a72cdaef0579c91',\n     'email': 'bob@example.com',\n     'es_type': 'account'}}]}}"
     },
     "execution_count": 69,
     "metadata": {},
     "output_type": "execute_result"
    }
   ],
   "source": [
    "# Match all search\n",
    "es.search({'query': {'match_all': {}}}, index='doaj-account')\n"
   ],
   "metadata": {
    "collapsed": false,
    "pycharm": {
     "name": "#%%\n"
    }
   }
  },
  {
   "cell_type": "markdown",
   "source": [
    "### Pull account by API key"
   ],
   "metadata": {
    "collapsed": false
   }
  },
  {
   "cell_type": "code",
   "execution_count": 72,
   "outputs": [
    {
     "data": {
      "text/plain": "{'took': 6,\n 'timed_out': False,\n '_shards': {'total': 4, 'successful': 4, 'skipped': 0, 'failed': 0},\n 'hits': {'total': {'value': 1, 'relation': 'eq'},\n  'max_score': 0.6931471,\n  'hits': [{'_index': 'doaj-account',\n    '_type': '_doc',\n    '_id': 'steve',\n    '_score': 0.6931471,\n    '_source': {'api_key': '19e75ffcb68a4b5d9f5d8ffe4d78b6a5',\n     'last_updated': '2021-04-27T09:49:11Z',\n     'marketing_consent': False,\n     'id': 'steve',\n     'role': ['admin', 'api'],\n     'created_date': '2014-09-10T15:53:50Z',\n     'password': 'pbkdf2:sha256:150000$o6pVxBxY$f8c25903211437b168af63b465c283942a9192f086fa77872a72cdaef0579c91',\n     'email': 'steve@example.com',\n     'es_type': 'account'}}]}}"
     },
     "execution_count": 72,
     "metadata": {},
     "output_type": "execute_result"
    }
   ],
   "source": [
    "q = {\n",
    "    'query': {\n",
    "        'term': {'api_key.exact': steve['api_key']}\n",
    "    }\n",
    "}\n",
    "\n",
    "es.search(q, index='doaj-account')\n",
    "\n",
    "#$$ md"
   ],
   "metadata": {
    "collapsed": false,
    "pycharm": {
     "name": "#%%\n"
    }
   }
  }
 ],
 "metadata": {
  "kernelspec": {
   "display_name": "Python 3",
   "language": "python",
   "name": "python3"
  },
  "language_info": {
   "codemirror_mode": {
    "name": "ipython",
    "version": 2
   },
   "file_extension": ".py",
   "mimetype": "text/x-python",
   "name": "python",
   "nbconvert_exporter": "python",
   "pygments_lexer": "ipython2",
   "version": "2.7.6"
  }
 },
 "nbformat": 4,
 "nbformat_minor": 0
}