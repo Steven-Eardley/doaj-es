{
 "cells": [
  {
   "cell_type": "markdown",
   "metadata": {
    "collapsed": true,
    "pycharm": {
     "name": "#%% md\n"
    }
   },
   "source": [
    "Prerequisites: ES cluster to talk to (docker or local)\n",
    "To start the docker elasticsearch cluster, first increase virtual memory available:\n",
    "\n",
    "temporarily with `sysctl -w vm.max_map_count=262144`\n",
    "or permanently via setting:\n",
    "`vm.max_map_count` to `262144` in `/etc/sysctl.conf`\n",
    "\n",
    "then:\n",
    "\n",
    "    docker-compose up\n",
    "\n",
    "(in virtualenv) `pip install elasticsearch jupyter rstr`"
   ]
  },
  {
   "cell_type": "code",
   "execution_count": 1,
   "metadata": {
    "pycharm": {
     "name": "#%%\n"
    }
   },
   "outputs": [
    {
     "ename": "TypeError",
     "evalue": "__init__() missing 1 required positional argument: 'scheme'",
     "output_type": "error",
     "traceback": [
      "\u001B[0;31m---------------------------------------------------------------------------\u001B[0m",
      "\u001B[0;31mTypeError\u001B[0m                                 Traceback (most recent call last)",
      "Input \u001B[0;32mIn [1]\u001B[0m, in \u001B[0;36m<cell line: 11>\u001B[0;34m()\u001B[0m\n\u001B[1;32m      9\u001B[0m es1 \u001B[38;5;241m=\u001B[39m {\u001B[38;5;124m'\u001B[39m\u001B[38;5;124mhost\u001B[39m\u001B[38;5;124m'\u001B[39m: \u001B[38;5;124m'\u001B[39m\u001B[38;5;124mlocalhost\u001B[39m\u001B[38;5;124m'\u001B[39m, \u001B[38;5;124m'\u001B[39m\u001B[38;5;124mport\u001B[39m\u001B[38;5;124m'\u001B[39m: \u001B[38;5;241m9201\u001B[39m}\n\u001B[1;32m     10\u001B[0m es2 \u001B[38;5;241m=\u001B[39m {\u001B[38;5;124m'\u001B[39m\u001B[38;5;124mhost\u001B[39m\u001B[38;5;124m'\u001B[39m: \u001B[38;5;124m'\u001B[39m\u001B[38;5;124mlocalhost\u001B[39m\u001B[38;5;124m'\u001B[39m, \u001B[38;5;124m'\u001B[39m\u001B[38;5;124mport\u001B[39m\u001B[38;5;124m'\u001B[39m: \u001B[38;5;241m9202\u001B[39m}\n\u001B[0;32m---> 11\u001B[0m es \u001B[38;5;241m=\u001B[39m \u001B[43melasticsearch\u001B[49m\u001B[38;5;241;43m.\u001B[39;49m\u001B[43mElasticsearch\u001B[49m\u001B[43m(\u001B[49m\u001B[43m[\u001B[49m\u001B[43mes1\u001B[49m\u001B[43m,\u001B[49m\u001B[43m \u001B[49m\u001B[43mes2\u001B[49m\u001B[43m]\u001B[49m\u001B[43m)\u001B[49m\n",
      "File \u001B[0;32m~/code/cl/venv/doaj-es/lib/python3.9/site-packages/elasticsearch/_sync/client/__init__.py:331\u001B[0m, in \u001B[0;36mElasticsearch.__init__\u001B[0;34m(self, hosts, cloud_id, api_key, basic_auth, bearer_auth, opaque_id, headers, connections_per_node, http_compress, verify_certs, ca_certs, client_cert, client_key, ssl_assert_hostname, ssl_assert_fingerprint, ssl_version, ssl_context, ssl_show_warn, transport_class, request_timeout, node_class, node_pool_class, randomize_nodes_in_pool, node_selector_class, dead_node_backoff_factor, max_dead_node_backoff, serializer, serializers, default_mimetype, max_retries, retry_on_status, retry_on_timeout, sniff_on_start, sniff_before_requests, sniff_on_node_failure, sniff_timeout, min_delay_between_sniffing, sniffed_node_callback, meta_header, timeout, randomize_hosts, host_info_callback, sniffer_timeout, sniff_on_connection_fail, http_auth, maxsize, _transport)\u001B[0m\n\u001B[1;32m    328\u001B[0m         requests_session_auth \u001B[38;5;241m=\u001B[39m http_auth\n\u001B[1;32m    329\u001B[0m         http_auth \u001B[38;5;241m=\u001B[39m DEFAULT\n\u001B[0;32m--> 331\u001B[0m node_configs \u001B[38;5;241m=\u001B[39m \u001B[43mclient_node_configs\u001B[49m\u001B[43m(\u001B[49m\n\u001B[1;32m    332\u001B[0m \u001B[43m    \u001B[49m\u001B[43mhosts\u001B[49m\u001B[43m,\u001B[49m\n\u001B[1;32m    333\u001B[0m \u001B[43m    \u001B[49m\u001B[43mcloud_id\u001B[49m\u001B[38;5;241;43m=\u001B[39;49m\u001B[43mcloud_id\u001B[49m\u001B[43m,\u001B[49m\n\u001B[1;32m    334\u001B[0m \u001B[43m    \u001B[49m\u001B[43mrequests_session_auth\u001B[49m\u001B[38;5;241;43m=\u001B[39;49m\u001B[43mrequests_session_auth\u001B[49m\u001B[43m,\u001B[49m\n\u001B[1;32m    335\u001B[0m \u001B[43m    \u001B[49m\u001B[43mconnections_per_node\u001B[49m\u001B[38;5;241;43m=\u001B[39;49m\u001B[43mconnections_per_node\u001B[49m\u001B[43m,\u001B[49m\n\u001B[1;32m    336\u001B[0m \u001B[43m    \u001B[49m\u001B[43mhttp_compress\u001B[49m\u001B[38;5;241;43m=\u001B[39;49m\u001B[43mhttp_compress\u001B[49m\u001B[43m,\u001B[49m\n\u001B[1;32m    337\u001B[0m \u001B[43m    \u001B[49m\u001B[43mverify_certs\u001B[49m\u001B[38;5;241;43m=\u001B[39;49m\u001B[43mverify_certs\u001B[49m\u001B[43m,\u001B[49m\n\u001B[1;32m    338\u001B[0m \u001B[43m    \u001B[49m\u001B[43mca_certs\u001B[49m\u001B[38;5;241;43m=\u001B[39;49m\u001B[43mca_certs\u001B[49m\u001B[43m,\u001B[49m\n\u001B[1;32m    339\u001B[0m \u001B[43m    \u001B[49m\u001B[43mclient_cert\u001B[49m\u001B[38;5;241;43m=\u001B[39;49m\u001B[43mclient_cert\u001B[49m\u001B[43m,\u001B[49m\n\u001B[1;32m    340\u001B[0m \u001B[43m    \u001B[49m\u001B[43mclient_key\u001B[49m\u001B[38;5;241;43m=\u001B[39;49m\u001B[43mclient_key\u001B[49m\u001B[43m,\u001B[49m\n\u001B[1;32m    341\u001B[0m \u001B[43m    \u001B[49m\u001B[43mssl_assert_hostname\u001B[49m\u001B[38;5;241;43m=\u001B[39;49m\u001B[43mssl_assert_hostname\u001B[49m\u001B[43m,\u001B[49m\n\u001B[1;32m    342\u001B[0m \u001B[43m    \u001B[49m\u001B[43mssl_assert_fingerprint\u001B[49m\u001B[38;5;241;43m=\u001B[39;49m\u001B[43mssl_assert_fingerprint\u001B[49m\u001B[43m,\u001B[49m\n\u001B[1;32m    343\u001B[0m \u001B[43m    \u001B[49m\u001B[43mssl_version\u001B[49m\u001B[38;5;241;43m=\u001B[39;49m\u001B[43mssl_version\u001B[49m\u001B[43m,\u001B[49m\n\u001B[1;32m    344\u001B[0m \u001B[43m    \u001B[49m\u001B[43mssl_context\u001B[49m\u001B[38;5;241;43m=\u001B[39;49m\u001B[43mssl_context\u001B[49m\u001B[43m,\u001B[49m\n\u001B[1;32m    345\u001B[0m \u001B[43m    \u001B[49m\u001B[43mssl_show_warn\u001B[49m\u001B[38;5;241;43m=\u001B[39;49m\u001B[43mssl_show_warn\u001B[49m\u001B[43m,\u001B[49m\n\u001B[1;32m    346\u001B[0m \u001B[43m\u001B[49m\u001B[43m)\u001B[49m\n\u001B[1;32m    347\u001B[0m transport_kwargs: t\u001B[38;5;241m.\u001B[39mDict[\u001B[38;5;28mstr\u001B[39m, t\u001B[38;5;241m.\u001B[39mAny] \u001B[38;5;241m=\u001B[39m {}\n\u001B[1;32m    348\u001B[0m \u001B[38;5;28;01mif\u001B[39;00m node_class \u001B[38;5;129;01mis\u001B[39;00m \u001B[38;5;129;01mnot\u001B[39;00m DEFAULT:\n",
      "File \u001B[0;32m~/code/cl/venv/doaj-es/lib/python3.9/site-packages/elasticsearch/_sync/client/utils.py:105\u001B[0m, in \u001B[0;36mclient_node_configs\u001B[0;34m(hosts, cloud_id, requests_session_auth, **kwargs)\u001B[0m\n\u001B[1;32m    103\u001B[0m \u001B[38;5;28;01melse\u001B[39;00m:\n\u001B[1;32m    104\u001B[0m     \u001B[38;5;28;01massert\u001B[39;00m hosts \u001B[38;5;129;01mis\u001B[39;00m \u001B[38;5;129;01mnot\u001B[39;00m \u001B[38;5;28;01mNone\u001B[39;00m\n\u001B[0;32m--> 105\u001B[0m     node_configs \u001B[38;5;241m=\u001B[39m \u001B[43mhosts_to_node_configs\u001B[49m\u001B[43m(\u001B[49m\u001B[43mhosts\u001B[49m\u001B[43m)\u001B[49m\n\u001B[1;32m    107\u001B[0m \u001B[38;5;66;03m# Remove all values which are 'DEFAULT' to avoid overwriting actual defaults.\u001B[39;00m\n\u001B[1;32m    108\u001B[0m node_options \u001B[38;5;241m=\u001B[39m {k: v \u001B[38;5;28;01mfor\u001B[39;00m k, v \u001B[38;5;129;01min\u001B[39;00m kwargs\u001B[38;5;241m.\u001B[39mitems() \u001B[38;5;28;01mif\u001B[39;00m v \u001B[38;5;129;01mis\u001B[39;00m \u001B[38;5;129;01mnot\u001B[39;00m DEFAULT}\n",
      "File \u001B[0;32m~/code/cl/venv/doaj-es/lib/python3.9/site-packages/elasticsearch/_sync/client/utils.py:154\u001B[0m, in \u001B[0;36mhosts_to_node_configs\u001B[0;34m(hosts)\u001B[0m\n\u001B[1;32m    151\u001B[0m     node_configs\u001B[38;5;241m.\u001B[39mappend(url_to_node_config(host))\n\u001B[1;32m    153\u001B[0m \u001B[38;5;28;01melif\u001B[39;00m \u001B[38;5;28misinstance\u001B[39m(host, Mapping):\n\u001B[0;32m--> 154\u001B[0m     node_configs\u001B[38;5;241m.\u001B[39mappend(\u001B[43mhost_mapping_to_node_config\u001B[49m\u001B[43m(\u001B[49m\u001B[43mhost\u001B[49m\u001B[43m)\u001B[49m)\n\u001B[1;32m    155\u001B[0m \u001B[38;5;28;01melse\u001B[39;00m:\n\u001B[1;32m    156\u001B[0m     \u001B[38;5;28;01mraise\u001B[39;00m \u001B[38;5;167;01mValueError\u001B[39;00m(\n\u001B[1;32m    157\u001B[0m         \u001B[38;5;124m\"\u001B[39m\u001B[38;5;124m'\u001B[39m\u001B[38;5;124mhosts\u001B[39m\u001B[38;5;124m'\u001B[39m\u001B[38;5;124m must be a list of URLs, NodeConfigs, or dictionaries\u001B[39m\u001B[38;5;124m\"\u001B[39m\n\u001B[1;32m    158\u001B[0m     )\n",
      "File \u001B[0;32m~/code/cl/venv/doaj-es/lib/python3.9/site-packages/elasticsearch/_sync/client/utils.py:221\u001B[0m, in \u001B[0;36mhost_mapping_to_node_config\u001B[0;34m(host)\u001B[0m\n\u001B[1;32m    214\u001B[0m     warnings\u001B[38;5;241m.\u001B[39mwarn(\n\u001B[1;32m    215\u001B[0m         \u001B[38;5;124m\"\u001B[39m\u001B[38;5;124mThe \u001B[39m\u001B[38;5;124m'\u001B[39m\u001B[38;5;124murl_prefix\u001B[39m\u001B[38;5;124m'\u001B[39m\u001B[38;5;124m option is deprecated in favor of \u001B[39m\u001B[38;5;124m'\u001B[39m\u001B[38;5;124mpath_prefix\u001B[39m\u001B[38;5;124m'\u001B[39m\u001B[38;5;124m\"\u001B[39m,\n\u001B[1;32m    216\u001B[0m         category\u001B[38;5;241m=\u001B[39m\u001B[38;5;167;01mDeprecationWarning\u001B[39;00m,\n\u001B[1;32m    217\u001B[0m         stacklevel\u001B[38;5;241m=\u001B[39mwarn_stacklevel(),\n\u001B[1;32m    218\u001B[0m     )\n\u001B[1;32m    219\u001B[0m     options[\u001B[38;5;124m\"\u001B[39m\u001B[38;5;124mpath_prefix\u001B[39m\u001B[38;5;124m\"\u001B[39m] \u001B[38;5;241m=\u001B[39m options\u001B[38;5;241m.\u001B[39mpop(\u001B[38;5;124m\"\u001B[39m\u001B[38;5;124murl_prefix\u001B[39m\u001B[38;5;124m\"\u001B[39m)\n\u001B[0;32m--> 221\u001B[0m \u001B[38;5;28;01mreturn\u001B[39;00m \u001B[43mNodeConfig\u001B[49m\u001B[43m(\u001B[49m\u001B[38;5;241;43m*\u001B[39;49m\u001B[38;5;241;43m*\u001B[39;49m\u001B[43moptions\u001B[49m\u001B[43m)\u001B[49m\n",
      "\u001B[0;31mTypeError\u001B[0m: __init__() missing 1 required positional argument: 'scheme'"
     ]
    }
   ],
   "source": [
    "import json\n",
    "from datetime import datetime\n",
    "from uuid import uuid4\n",
    "from copy import deepcopy\n",
    "\n",
    "import fixtures\n",
    "\n",
    "import elasticsearch\n",
    "es1 = {'host': 'localhost', 'port': 9201}\n",
    "es2 = {'host': 'localhost', 'port': 9202}\n",
    "es = elasticsearch.Elasticsearch([es1, es2])"
   ]
  },
  {
   "cell_type": "markdown",
   "metadata": {
    "pycharm": {
     "name": "#%% md\n"
    }
   },
   "source": [
    "### Check we have redundancy:\n",
    "\n",
    "Notice we talk to both hosts"
   ]
  },
  {
   "cell_type": "code",
   "execution_count": 2,
   "metadata": {
    "pycharm": {
     "name": "#%%\n"
    }
   },
   "outputs": [
    {
     "name": "stdout",
     "output_type": "stream",
     "text": [
      "{'name': 'es01', 'cluster_name': 'es-docker-cluster', 'cluster_uuid': 'y2M8TuB0RhGkyhL5UZ_X6A', 'version': {'number': '7.10.0', 'build_flavor': 'default', 'build_type': 'docker', 'build_hash': '51e9d6f22758d0374a0f3f5c6e8f3a7997850f96', 'build_date': '2020-11-09T21:30:33.964949Z', 'build_snapshot': False, 'lucene_version': '8.7.0', 'minimum_wire_compatibility_version': '6.8.0', 'minimum_index_compatibility_version': '6.0.0-beta1'}, 'tagline': 'You Know, for Search'}\n",
      "{'name': 'es02', 'cluster_name': 'es-docker-cluster', 'cluster_uuid': 'y2M8TuB0RhGkyhL5UZ_X6A', 'version': {'number': '7.10.0', 'build_flavor': 'default', 'build_type': 'docker', 'build_hash': '51e9d6f22758d0374a0f3f5c6e8f3a7997850f96', 'build_date': '2020-11-09T21:30:33.964949Z', 'build_snapshot': False, 'lucene_version': '8.7.0', 'minimum_wire_compatibility_version': '6.8.0', 'minimum_index_compatibility_version': '6.0.0-beta1'}, 'tagline': 'You Know, for Search'}\n",
      "{'name': 'es01', 'cluster_name': 'es-docker-cluster', 'cluster_uuid': 'y2M8TuB0RhGkyhL5UZ_X6A', 'version': {'number': '7.10.0', 'build_flavor': 'default', 'build_type': 'docker', 'build_hash': '51e9d6f22758d0374a0f3f5c6e8f3a7997850f96', 'build_date': '2020-11-09T21:30:33.964949Z', 'build_snapshot': False, 'lucene_version': '8.7.0', 'minimum_wire_compatibility_version': '6.8.0', 'minimum_index_compatibility_version': '6.0.0-beta1'}, 'tagline': 'You Know, for Search'}\n",
      "{'name': 'es02', 'cluster_name': 'es-docker-cluster', 'cluster_uuid': 'y2M8TuB0RhGkyhL5UZ_X6A', 'version': {'number': '7.10.0', 'build_flavor': 'default', 'build_type': 'docker', 'build_hash': '51e9d6f22758d0374a0f3f5c6e8f3a7997850f96', 'build_date': '2020-11-09T21:30:33.964949Z', 'build_snapshot': False, 'lucene_version': '8.7.0', 'minimum_wire_compatibility_version': '6.8.0', 'minimum_index_compatibility_version': '6.0.0-beta1'}, 'tagline': 'You Know, for Search'}\n",
      "{'name': 'es01', 'cluster_name': 'es-docker-cluster', 'cluster_uuid': 'y2M8TuB0RhGkyhL5UZ_X6A', 'version': {'number': '7.10.0', 'build_flavor': 'default', 'build_type': 'docker', 'build_hash': '51e9d6f22758d0374a0f3f5c6e8f3a7997850f96', 'build_date': '2020-11-09T21:30:33.964949Z', 'build_snapshot': False, 'lucene_version': '8.7.0', 'minimum_wire_compatibility_version': '6.8.0', 'minimum_index_compatibility_version': '6.0.0-beta1'}, 'tagline': 'You Know, for Search'}\n",
      "{'name': 'es02', 'cluster_name': 'es-docker-cluster', 'cluster_uuid': 'y2M8TuB0RhGkyhL5UZ_X6A', 'version': {'number': '7.10.0', 'build_flavor': 'default', 'build_type': 'docker', 'build_hash': '51e9d6f22758d0374a0f3f5c6e8f3a7997850f96', 'build_date': '2020-11-09T21:30:33.964949Z', 'build_snapshot': False, 'lucene_version': '8.7.0', 'minimum_wire_compatibility_version': '6.8.0', 'minimum_index_compatibility_version': '6.0.0-beta1'}, 'tagline': 'You Know, for Search'}\n",
      "{'name': 'es01', 'cluster_name': 'es-docker-cluster', 'cluster_uuid': 'y2M8TuB0RhGkyhL5UZ_X6A', 'version': {'number': '7.10.0', 'build_flavor': 'default', 'build_type': 'docker', 'build_hash': '51e9d6f22758d0374a0f3f5c6e8f3a7997850f96', 'build_date': '2020-11-09T21:30:33.964949Z', 'build_snapshot': False, 'lucene_version': '8.7.0', 'minimum_wire_compatibility_version': '6.8.0', 'minimum_index_compatibility_version': '6.0.0-beta1'}, 'tagline': 'You Know, for Search'}\n",
      "{'name': 'es02', 'cluster_name': 'es-docker-cluster', 'cluster_uuid': 'y2M8TuB0RhGkyhL5UZ_X6A', 'version': {'number': '7.10.0', 'build_flavor': 'default', 'build_type': 'docker', 'build_hash': '51e9d6f22758d0374a0f3f5c6e8f3a7997850f96', 'build_date': '2020-11-09T21:30:33.964949Z', 'build_snapshot': False, 'lucene_version': '8.7.0', 'minimum_wire_compatibility_version': '6.8.0', 'minimum_index_compatibility_version': '6.0.0-beta1'}, 'tagline': 'You Know, for Search'}\n",
      "{'name': 'es01', 'cluster_name': 'es-docker-cluster', 'cluster_uuid': 'y2M8TuB0RhGkyhL5UZ_X6A', 'version': {'number': '7.10.0', 'build_flavor': 'default', 'build_type': 'docker', 'build_hash': '51e9d6f22758d0374a0f3f5c6e8f3a7997850f96', 'build_date': '2020-11-09T21:30:33.964949Z', 'build_snapshot': False, 'lucene_version': '8.7.0', 'minimum_wire_compatibility_version': '6.8.0', 'minimum_index_compatibility_version': '6.0.0-beta1'}, 'tagline': 'You Know, for Search'}\n"
     ]
    }
   ],
   "source": [
    "for i in range(0, 9):\n",
    "    print(es.info(pretty=True))"
   ]
  },
  {
   "cell_type": "markdown",
   "metadata": {
    "pycharm": {
     "name": "#%% md\n"
    }
   },
   "source": [
    "Now stop one of the hosts (in terminal)\n",
    "\n",
    "    docker stop es01\n",
    "\n",
    "Then run the cell above again. This time it seamlessly connects to es02 each time.\n",
    "Restart the container.\n",
    "\n",
    "    docker start es01"
   ]
  },
  {
   "cell_type": "code",
   "execution_count": 39,
   "metadata": {
    "pycharm": {
     "name": "#%%\n"
    }
   },
   "outputs": [
    {
     "data": {
      "text/plain": [
       "{'acknowledged': True}"
      ]
     },
     "execution_count": 39,
     "metadata": {},
     "output_type": "execute_result"
    }
   ],
   "source": [
    "# Clear up previous run\n",
    "es.indices.delete('doaj-*') if es.indices.get('doaj-*') else print('Nothing to do')"
   ]
  },
  {
   "cell_type": "markdown",
   "metadata": {
    "pycharm": {
     "name": "#%% md\n"
    }
   },
   "source": [
    "### Creating an index with custom dynamic mapping\n",
    "\n",
    "The dynamic mappings have changed somewhat since ES 1.7. For reference, here's the old\n",
    "default dynamic mapping:\n",
    "```\n",
    "'dynamic_templates': [\n",
    "            {\n",
    "                'default': {\n",
    "                    'match': '*', 'match_mapping_type': 'string', 'mapping': {\n",
    "                        'type': 'multi_field', 'fields': {\n",
    "                            '{name}': {'type': '{dynamic_type}', 'index': 'analyzed', 'store': 'no'},\n",
    "                            'exact': {'type': '{dynamic_type}', 'index': 'not_analyzed', 'store': 'yes'}}\n",
    "                    }\n",
    "                }\n",
    "            }\n",
    "        ]\n",
    "    }\n",
    "```\n",
    "The following gives us an equivalent `.exact` not_analyzed **keyword** field.\n",
    "\n",
    "We also have the benefit of initialising indexes with the correct number of shards depending on data size -\n",
    "more shards for larger types to improve search performance. Replicas would be different for dev and production."
   ]
  },
  {
   "cell_type": "code",
   "execution_count": 40,
   "metadata": {
    "pycharm": {
     "name": "#%%\n"
    }
   },
   "outputs": [
    {
     "data": {
      "text/plain": [
       "{'acknowledged': True, 'shards_acknowledged': True, 'index': 'doaj-account'}"
      ]
     },
     "execution_count": 40,
     "metadata": {},
     "output_type": "execute_result"
    }
   ],
   "source": [
    "CREATE_BODY = {\n",
    "    'aliases': {\n",
    "        'account': {}\n",
    "    },\n",
    "    'mappings': {\n",
    "        'dynamic_templates': [\n",
    "            {\n",
    "                \"strings\": {\n",
    "                    \"match_mapping_type\": \"string\",\n",
    "                    \"mapping\": {\n",
    "                        \"type\": \"text\",\n",
    "                        \"fields\": {\n",
    "                            \"exact\": {\n",
    "                                \"type\": \"keyword\",\n",
    "                                \"normalizer\": \"lowercase\"\n",
    "                            }\n",
    "                        }\n",
    "                    }\n",
    "                }\n",
    "            }\n",
    "        ]\n",
    "    },\n",
    "    'settings': {\n",
    "        'number_of_shards': 4,\n",
    "        'number_of_replicas': 1\n",
    "    }\n",
    "}\n",
    "\n",
    "# todo: do we want to do a check on index init that it has the correct mappings?\n",
    "\n",
    "# Use the create index api with the mapping\n",
    "es.indices.create(index='doaj-account', body=CREATE_BODY)\n"
   ]
  },
  {
   "cell_type": "markdown",
   "metadata": {
    "pycharm": {
     "name": "#%% md\n"
    }
   },
   "source": [
    "### Put some data in the index"
   ]
  },
  {
   "cell_type": "code",
   "execution_count": 41,
   "metadata": {
    "pycharm": {
     "name": "#%%\n"
    }
   },
   "outputs": [
    {
     "data": {
      "text/plain": [
       "{'_index': 'doaj-account',\n",
       " '_type': '_doc',\n",
       " '_id': 'bob',\n",
       " '_version': 1,\n",
       " 'result': 'created',\n",
       " '_shards': {'total': 2, 'successful': 2, 'failed': 0},\n",
       " '_seq_no': 1,\n",
       " '_primary_term': 1}"
      ]
     },
     "execution_count": 41,
     "metadata": {},
     "output_type": "execute_result"
    }
   ],
   "source": [
    "steve = {\"api_key\": uuid4().hex, \"last_updated\": \"2021-04-27T09:49:11Z\", \"marketing_consent\": False, \"id\": \"steve\", \"role\": [\"admin\", \"api\"], \"created_date\": \"2014-09-10T15:53:50Z\", \"password\": \"pbkdf2:sha256:150000$o6pVxBxY$f8c25903211437b168af63b465c283942a9192f086fa77872a72cdaef0579c91\", \"email\": \"steve@example.com\", \"es_type\": \"account\"}\n",
    "bob =  {\"api_key\": uuid4().hex, \"last_updated\": \"2021-04-27T09:49:11Z\", \"marketing_consent\": False, \"id\": \"bob\", \"role\": [\"publisher\", \"api\"], \"created_date\": \"2014-09-10T15:53:50Z\", \"password\": \"pbkdf2:sha256:150000$o6pVxBxY$f8c25903211437b168af63b465c283942a9192f086fa77872a72cdaef0579c91\", \"email\": \"bob@example.com\", \"es_type\": \"account\"}\n",
    "\n",
    "es.create(index='doaj-account', id='steve', body=steve)\n",
    "es.create(index='doaj-account', id='bob', body=bob)"
   ]
  },
  {
   "cell_type": "code",
   "execution_count": 42,
   "metadata": {
    "pycharm": {
     "name": "#%%\n"
    }
   },
   "outputs": [
    {
     "name": "stdout",
     "output_type": "stream",
     "text": [
      "ConflictError(409, 'version_conflict_engine_exception', '[steve]: version conflict, document already exists (current version [1])')\n"
     ]
    }
   ],
   "source": [
    "# An additional create will cause a 409 conflict\n",
    "try:\n",
    "    es.create(index='doaj-account', id='steve', body=steve)\n",
    "except elasticsearch.ConflictError as e:\n",
    "    print(e)"
   ]
  },
  {
   "cell_type": "code",
   "execution_count": 43,
   "metadata": {
    "pycharm": {
     "name": "#%%\n"
    }
   },
   "outputs": [
    {
     "data": {
      "text/plain": [
       "{'_index': 'doaj-account',\n",
       " '_type': '_doc',\n",
       " '_id': 'steve',\n",
       " '_version': 2,\n",
       " 'result': 'updated',\n",
       " '_shards': {'total': 2, 'successful': 2, 'failed': 0},\n",
       " '_seq_no': 2,\n",
       " '_primary_term': 1}"
      ]
     },
     "execution_count": 43,
     "metadata": {},
     "output_type": "execute_result"
    }
   ],
   "source": [
    "# With correct method es.index\n",
    "steve['last_updated'] = datetime.utcnow().strftime(\"%Y-%m-%dT%H:%M:%SZ\")\n",
    "es.index(index='doaj-account', id='steve', body=steve)"
   ]
  },
  {
   "cell_type": "markdown",
   "metadata": {
    "pycharm": {
     "name": "#%% md\n"
    }
   },
   "source": [
    "### Elasticsearch concurrency control (save validation)\n",
    "https://www.elastic.co/guide/en/elasticsearch/reference/7.10/optimistic-concurrency-control.html\n",
    "\n",
    "Ensure we reject changes when a document has been saved in interim."
   ]
  },
  {
   "cell_type": "code",
   "execution_count": 44,
   "metadata": {
    "pycharm": {
     "name": "#%%\n"
    }
   },
   "outputs": [
    {
     "data": {
      "text/plain": [
       "{'_index': 'doaj-account',\n",
       " '_type': '_doc',\n",
       " '_id': 'bob',\n",
       " '_version': 1,\n",
       " '_seq_no': 1,\n",
       " '_primary_term': 1,\n",
       " 'found': True,\n",
       " '_source': {'api_key': 'b7ca4c9531fd46438ddffe91bbf38163',\n",
       "  'last_updated': '2021-04-27T09:49:11Z',\n",
       "  'marketing_consent': False,\n",
       "  'id': 'bob',\n",
       "  'role': ['publisher', 'api'],\n",
       "  'created_date': '2014-09-10T15:53:50Z',\n",
       "  'password': 'pbkdf2:sha256:150000$o6pVxBxY$f8c25903211437b168af63b465c283942a9192f086fa77872a72cdaef0579c91',\n",
       "  'email': 'bob@example.com',\n",
       "  'es_type': 'account'}}"
      ]
     },
     "execution_count": 44,
     "metadata": {},
     "output_type": "execute_result"
    }
   ],
   "source": [
    "bob_retrieved = es.get('doaj-account', id='bob')\n",
    "bob_retrieved"
   ]
  },
  {
   "cell_type": "code",
   "execution_count": 45,
   "metadata": {
    "pycharm": {
     "name": "#%%\n"
    }
   },
   "outputs": [
    {
     "data": {
      "text/plain": [
       "{'_index': 'doaj-account',\n",
       " '_type': '_doc',\n",
       " '_id': 'bob',\n",
       " '_version': 2,\n",
       " 'result': 'updated',\n",
       " '_shards': {'total': 2, 'successful': 2, 'failed': 0},\n",
       " '_seq_no': 3,\n",
       " '_primary_term': 1}"
      ]
     },
     "execution_count": 45,
     "metadata": {},
     "output_type": "execute_result"
    }
   ],
   "source": [
    "# Bob's API key is updated before another user is finished updating Bob\n",
    "bob_interjected = deepcopy(bob_retrieved).get('_source')\n",
    "bob_interjected['api_key'] = uuid4().hex\n",
    "es.index('doaj-account', id='bob', body=bob_interjected, if_seq_no=bob_retrieved['_seq_no'], if_primary_term=bob_retrieved['_primary_term'])"
   ]
  },
  {
   "cell_type": "code",
   "execution_count": 46,
   "metadata": {
    "pycharm": {
     "name": "#%%\n"
    }
   },
   "outputs": [
    {
     "name": "stdout",
     "output_type": "stream",
     "text": [
      "ConflictError(409, 'version_conflict_engine_exception', '[bob]: version conflict, required seqNo [1], primary term [1]. current document has seqNo [3] and primary term [1]')\n"
     ]
    }
   ],
   "source": [
    "# Then we try to carry on with our update of Bob, specifying our sequences as before\n",
    "bob_retrieved['_source']['last_updated'] = datetime.utcnow().strftime(\"%Y-%m-%dT%H:%M:%SZ\")\n",
    "try:\n",
    "    es.index('doaj-account', id='bob', body=bob_retrieved['_source'], if_seq_no=bob_retrieved['_seq_no'], if_primary_term=bob_retrieved['_primary_term'])\n",
    "except elasticsearch.ConflictError as e:\n",
    "    print(e)"
   ]
  },
  {
   "cell_type": "code",
   "execution_count": 47,
   "metadata": {
    "pycharm": {
     "name": "#%%\n"
    }
   },
   "outputs": [
    {
     "data": {
      "text/plain": [
       "{'_index': 'doaj-account',\n",
       " '_type': '_doc',\n",
       " '_id': 'bob',\n",
       " '_version': 3,\n",
       " '_seq_no': 4,\n",
       " '_primary_term': 1,\n",
       " 'found': True,\n",
       " '_source': {'api_key': 'b7ca4c9531fd46438ddffe91bbf38163',\n",
       "  'last_updated': '2021-05-04T10:05:44Z',\n",
       "  'marketing_consent': False,\n",
       "  'id': 'bob',\n",
       "  'role': ['publisher', 'api'],\n",
       "  'created_date': '2014-09-10T15:53:50Z',\n",
       "  'password': 'pbkdf2:sha256:150000$o6pVxBxY$f8c25903211437b168af63b465c283942a9192f086fa77872a72cdaef0579c91',\n",
       "  'email': 'bob@example.com',\n",
       "  'es_type': 'account'}}"
      ]
     },
     "execution_count": 47,
     "metadata": {},
     "output_type": "execute_result"
    }
   ],
   "source": [
    "# Try again with correct sequence:\n",
    "bob_uptodate = es.get('doaj-account', id='bob')\n",
    "es.index('doaj-account', id='bob', body=bob_retrieved['_source'], if_seq_no=bob_uptodate['_seq_no'], if_primary_term=bob_uptodate['_primary_term'])\n",
    "es.get('doaj-account', id='bob')"
   ]
  },
  {
   "cell_type": "code",
   "execution_count": 48,
   "metadata": {
    "pycharm": {
     "name": "#%%\n"
    }
   },
   "outputs": [
    {
     "data": {
      "text/plain": [
       "{'took': 2,\n",
       " 'timed_out': False,\n",
       " '_shards': {'total': 4, 'successful': 4, 'skipped': 0, 'failed': 0},\n",
       " 'hits': {'total': {'value': 2, 'relation': 'eq'},\n",
       "  'max_score': 1.0,\n",
       "  'hits': [{'_index': 'doaj-account',\n",
       "    '_type': '_doc',\n",
       "    '_id': 'steve',\n",
       "    '_score': 1.0,\n",
       "    '_source': {'api_key': '0735e41b118d41fc98b2ac508f1b6148',\n",
       "     'last_updated': '2021-05-04T10:05:25Z',\n",
       "     'marketing_consent': False,\n",
       "     'id': 'steve',\n",
       "     'role': ['admin', 'api'],\n",
       "     'created_date': '2014-09-10T15:53:50Z',\n",
       "     'password': 'pbkdf2:sha256:150000$o6pVxBxY$f8c25903211437b168af63b465c283942a9192f086fa77872a72cdaef0579c91',\n",
       "     'email': 'steve@example.com',\n",
       "     'es_type': 'account'}},\n",
       "   {'_index': 'doaj-account',\n",
       "    '_type': '_doc',\n",
       "    '_id': 'bob',\n",
       "    '_score': 1.0,\n",
       "    '_source': {'api_key': 'b7ca4c9531fd46438ddffe91bbf38163',\n",
       "     'last_updated': '2021-05-04T10:05:44Z',\n",
       "     'marketing_consent': False,\n",
       "     'id': 'bob',\n",
       "     'role': ['publisher', 'api'],\n",
       "     'created_date': '2014-09-10T15:53:50Z',\n",
       "     'password': 'pbkdf2:sha256:150000$o6pVxBxY$f8c25903211437b168af63b465c283942a9192f086fa77872a72cdaef0579c91',\n",
       "     'email': 'bob@example.com',\n",
       "     'es_type': 'account'}}]}}"
      ]
     },
     "execution_count": 48,
     "metadata": {},
     "output_type": "execute_result"
    }
   ],
   "source": [
    "# Match all search\n",
    "es.search({'query': {'match_all': {}}}, index='doaj-account')\n"
   ]
  },
  {
   "cell_type": "markdown",
   "metadata": {
    "pycharm": {
     "name": "#%% md\n"
    }
   },
   "source": [
    "### Pull account by API key"
   ]
  },
  {
   "cell_type": "code",
   "execution_count": 49,
   "metadata": {
    "pycharm": {
     "name": "#%%\n"
    }
   },
   "outputs": [
    {
     "data": {
      "text/plain": [
       "{'took': 3,\n",
       " 'timed_out': False,\n",
       " '_shards': {'total': 4, 'successful': 4, 'skipped': 0, 'failed': 0},\n",
       " 'hits': {'total': {'value': 1, 'relation': 'eq'},\n",
       "  'max_score': 0.87546873,\n",
       "  'hits': [{'_index': 'doaj-account',\n",
       "    '_type': '_doc',\n",
       "    '_id': 'steve',\n",
       "    '_score': 0.87546873,\n",
       "    '_source': {'api_key': '0735e41b118d41fc98b2ac508f1b6148',\n",
       "     'last_updated': '2021-05-04T10:05:25Z',\n",
       "     'marketing_consent': False,\n",
       "     'id': 'steve',\n",
       "     'role': ['admin', 'api'],\n",
       "     'created_date': '2014-09-10T15:53:50Z',\n",
       "     'password': 'pbkdf2:sha256:150000$o6pVxBxY$f8c25903211437b168af63b465c283942a9192f086fa77872a72cdaef0579c91',\n",
       "     'email': 'steve@example.com',\n",
       "     'es_type': 'account'}}]}}"
      ]
     },
     "execution_count": 49,
     "metadata": {},
     "output_type": "execute_result"
    }
   ],
   "source": [
    "q = {\n",
    "    'query': {\n",
    "        'term': {'api_key.exact': steve['api_key']}\n",
    "    }\n",
    "}\n",
    "\n",
    "es.search(q, index='doaj-account')"
   ]
  },
  {
   "cell_type": "markdown",
   "metadata": {
    "pycharm": {
     "name": "#%% md\n"
    }
   },
   "source": [
    "### Aggregate on role - demonstrate on text field"
   ]
  },
  {
   "cell_type": "code",
   "execution_count": 50,
   "metadata": {
    "pycharm": {
     "name": "#%%\n"
    }
   },
   "outputs": [
    {
     "name": "stdout",
     "output_type": "stream",
     "text": [
      "RequestError(400, 'search_phase_execution_exception', 'Text fields are not optimised for operations that require per-document field data like aggregations and sorting, so these operations are disabled by default. Please use a keyword field instead. Alternatively, set fielddata=true on [role] in order to load field data by uninverting the inverted index. Note that this can use significant memory.')\n"
     ]
    }
   ],
   "source": [
    "q = {\n",
    "    'query': {\n",
    "        'match_all': {}\n",
    "    },\n",
    "    'aggs': {\n",
    "        \"by_role\": {\n",
    "            \"terms\": {\n",
    "                \"field\": \"role\"\n",
    "            }\n",
    "        }\n",
    "    }\n",
    "}\n",
    "\n",
    "try:\n",
    "    es.search(q, index='doaj-account')\n",
    "except elasticsearch.RequestError as e:\n",
    "    print(e)"
   ]
  },
  {
   "cell_type": "code",
   "execution_count": 51,
   "metadata": {
    "pycharm": {
     "name": "#%%\n"
    }
   },
   "outputs": [
    {
     "data": {
      "text/plain": [
       "{'took': 9,\n",
       " 'timed_out': False,\n",
       " '_shards': {'total': 4, 'successful': 4, 'skipped': 0, 'failed': 0},\n",
       " 'hits': {'total': {'value': 2, 'relation': 'eq'},\n",
       "  'max_score': None,\n",
       "  'hits': []},\n",
       " 'aggregations': {'by_role': {'doc_count_error_upper_bound': 0,\n",
       "   'sum_other_doc_count': 0,\n",
       "   'buckets': [{'key': 'api', 'doc_count': 2},\n",
       "    {'key': 'admin', 'doc_count': 1},\n",
       "    {'key': 'publisher', 'doc_count': 1}]}}}"
      ]
     },
     "execution_count": 51,
     "metadata": {},
     "output_type": "execute_result"
    }
   ],
   "source": [
    "# Try again with .exact field\n",
    "q = {\n",
    "    'query': {\n",
    "        'match_all': {}\n",
    "    },\n",
    "    'aggs': {\n",
    "        \"by_role\": {\n",
    "            \"terms\": {\n",
    "                \"field\": \"role.exact\"\n",
    "            }\n",
    "        }\n",
    "    },\n",
    "    'size': 0\n",
    "}\n",
    "\n",
    "es.search(q, index='doaj-account')"
   ]
  },
  {
   "cell_type": "markdown",
   "metadata": {
    "pycharm": {
     "name": "#%% md\n"
    }
   },
   "source": [
    "### Index aliases for query simplification\n",
    "\n",
    "You can define index settings to filter results based on the index alias.\n",
    "For example, we could have a 'view' on the DOAJ journal index that's just the public\n",
    "records."
   ]
  },
  {
   "cell_type": "code",
   "execution_count": 52,
   "metadata": {
    "pycharm": {
     "name": "#%%\n"
    }
   },
   "outputs": [
    {
     "data": {
      "text/plain": [
       "{'took': 140,\n",
       " 'errors': False,\n",
       " 'items': [{'index': {'_index': 'doaj-journal',\n",
       "    '_type': '_doc',\n",
       "    '_id': 'journalid0',\n",
       "    '_version': 1,\n",
       "    'result': 'created',\n",
       "    '_shards': {'total': 2, 'successful': 2, 'failed': 0},\n",
       "    '_seq_no': 0,\n",
       "    '_primary_term': 1,\n",
       "    'status': 201}},\n",
       "  {'index': {'_index': 'doaj-journal',\n",
       "    '_type': '_doc',\n",
       "    '_id': 'journalid1',\n",
       "    '_version': 1,\n",
       "    'result': 'created',\n",
       "    '_shards': {'total': 2, 'successful': 2, 'failed': 0},\n",
       "    '_seq_no': 1,\n",
       "    '_primary_term': 1,\n",
       "    'status': 201}},\n",
       "  {'index': {'_index': 'doaj-journal',\n",
       "    '_type': '_doc',\n",
       "    '_id': 'journalid2',\n",
       "    '_version': 1,\n",
       "    'result': 'created',\n",
       "    '_shards': {'total': 2, 'successful': 2, 'failed': 0},\n",
       "    '_seq_no': 2,\n",
       "    '_primary_term': 1,\n",
       "    'status': 201}},\n",
       "  {'index': {'_index': 'doaj-journal',\n",
       "    '_type': '_doc',\n",
       "    '_id': 'journalid3',\n",
       "    '_version': 1,\n",
       "    'result': 'created',\n",
       "    '_shards': {'total': 2, 'successful': 2, 'failed': 0},\n",
       "    '_seq_no': 3,\n",
       "    '_primary_term': 1,\n",
       "    'status': 201}}]}"
      ]
     },
     "execution_count": 52,
     "metadata": {},
     "output_type": "execute_result"
    }
   ],
   "source": [
    "# Create an index for journals using the default dynamic mapping (for now)\n",
    "J_INDEX = {\n",
    "    'aliases': {\n",
    "        'journal': {},\n",
    "        'journal-public': {\n",
    "            'filter': {\n",
    "                'term': { 'admin.in_doaj': True }\n",
    "            }\n",
    "        }\n",
    "    }\n",
    "}\n",
    "if not es.indices.exists('doaj-journal'):\n",
    "    es.indices.create(index='doaj-journal', body=J_INDEX)\n",
    "\n",
    "# Put a couple of journals that are in doaj and a couple out. This time we'll use bulk operations\n",
    "\n",
    "js = fixtures.make_many_journal_sources(count=4, in_doaj=False)\n",
    "for i in range(0, len(js)):\n",
    "    js[i]['admin']['in_doaj'] = bool(i%2)\n",
    "\n",
    "# Esprit has a to_bulk convenience function for this that we may wish to keep hold of.\n",
    "bulk_instructions = [({'index': {'_id': j['id']}}, j) for j in js]\n",
    "bulk_body = ''\n",
    "for inst, data in bulk_instructions:\n",
    "    bulk_body += json.dumps(inst) + '\\n'\n",
    "    bulk_body += json.dumps(data) + '\\n'\n",
    "\n",
    "es.bulk(bulk_body, 'journal')"
   ]
  },
  {
   "cell_type": "code",
   "execution_count": 53,
   "metadata": {
    "pycharm": {
     "name": "#%%\n"
    }
   },
   "outputs": [
    {
     "data": {
      "text/plain": [
       "{'took': 3,\n",
       " 'timed_out': False,\n",
       " '_shards': {'total': 1, 'successful': 1, 'skipped': 0, 'failed': 0},\n",
       " 'hits': {'total': {'value': 4, 'relation': 'eq'},\n",
       "  'max_score': 1.0,\n",
       "  'hits': [{'_index': 'doaj-journal',\n",
       "    '_type': '_doc',\n",
       "    '_id': 'journalid0',\n",
       "    '_score': 1.0,\n",
       "    '_source': {'id': 'journalid0',\n",
       "     'created_date': '2000-01-01T00:00:00Z',\n",
       "     'last_manual_update': '2001-01-01T00:00:00Z',\n",
       "     'last_updated': '2002-01-01T00:00:00Z',\n",
       "     'admin': {'bulk_upload': 'bulk_1234567890',\n",
       "      'current_application': 'qwertyuiop',\n",
       "      'editor_group': 'editorgroup',\n",
       "      'editor': 'associate',\n",
       "      'in_doaj': False,\n",
       "      'notes': [{'note': 'Second Note',\n",
       "        'date': '2014-05-22T00:00:00Z',\n",
       "        'id': '1234'},\n",
       "       {'note': 'First Note', 'date': '2014-05-21T14:02:45Z', 'id': 'abcd'}],\n",
       "      'owner': 'publisher',\n",
       "      'related_applications': [{'application_id': 'asdfghjkl',\n",
       "        'date_accepted': '2018-01-01T00:00:00Z'},\n",
       "       {'application_id': 'zxcvbnm'}],\n",
       "      'seal': False,\n",
       "      'ticked': True},\n",
       "     'bibjson': {'alternative_title': 'Alternative Title',\n",
       "      'apc': {'max': [{'currency': 'GBP', 'price': 2}],\n",
       "       'url': 'http://apc.com',\n",
       "       'has_apc': True},\n",
       "      'article': {'license_display': ['Embed'],\n",
       "       'license_display_example_url': 'http://licence.embedded',\n",
       "       'orcid': True,\n",
       "       'i4oc_open_citations': False},\n",
       "      'boai': True,\n",
       "      'copyright': {'author_retains': True, 'url': 'http://copyright.com'},\n",
       "      'deposit_policy': {'has_policy': True,\n",
       "       'service': ['Sherpa/Romeo', 'Store it'],\n",
       "       'url': 'http://deposit.policy'},\n",
       "      'discontinued_date': '2001-01-01',\n",
       "      'editorial': {'review_process': ['Open peer review',\n",
       "        'some bloke checks it out'],\n",
       "       'review_url': 'http://review.process',\n",
       "       'board_url': 'http://editorial.board'},\n",
       "      'eissn': '7629-3452',\n",
       "      'is_replaced_by': ['2222-2222'],\n",
       "      'institution': {'name': 'Society Institution', 'country': 'US'},\n",
       "      'keywords': ['word', 'key'],\n",
       "      'language': ['EN', 'FR'],\n",
       "      'license': [{'type': \"Publisher's own license\",\n",
       "        'BY': True,\n",
       "        'NC': True,\n",
       "        'ND': False,\n",
       "        'SA': False,\n",
       "        'url': 'http://licence.url'}],\n",
       "      'other_charges': {'has_other_charges': True,\n",
       "       'url': 'http://other.charges'},\n",
       "      'pid_scheme': {'has_pid_scheme': True,\n",
       "       'scheme': ['DOI', 'ARK', 'PURL', 'PIDMachine']},\n",
       "      'pissn': '3977-2337',\n",
       "      'plagiarism': {'detection': True, 'url': 'http://plagiarism.screening'},\n",
       "      'preservation': {'has_preservation': True,\n",
       "       'service': ['LOCKSS', 'CLOCKSS', 'A safe place'],\n",
       "       'national_library': ['Trinity', 'Imperial'],\n",
       "       'url': 'http://digital.archiving.policy'},\n",
       "      'publication_time_weeks': 8,\n",
       "      'publisher': {'name': 'The Publisher', 'country': 'US'},\n",
       "      'ref': {'oa_statement': 'http://oa.statement',\n",
       "       'journal': 'http://journal.url',\n",
       "       'aims_scope': 'http://aims.scope',\n",
       "       'author_instructions': 'http://author.instructions.com',\n",
       "       'license_terms': 'http://licence.url'},\n",
       "      'replaces': ['1111-1111'],\n",
       "      'subject': [{'scheme': 'LCC',\n",
       "        'term': 'Economic theory. Demography',\n",
       "        'code': 'HB1-3840'},\n",
       "       {'scheme': 'LCC', 'term': 'Social Sciences', 'code': 'H'}],\n",
       "      'title': 'Test Title 0',\n",
       "      'waiver': {'has_waiver': True, 'url': 'http://waiver.policy'}}}},\n",
       "   {'_index': 'doaj-journal',\n",
       "    '_type': '_doc',\n",
       "    '_id': 'journalid1',\n",
       "    '_score': 1.0,\n",
       "    '_source': {'id': 'journalid1',\n",
       "     'created_date': '2000-01-01T00:00:00Z',\n",
       "     'last_manual_update': '2001-01-01T00:00:00Z',\n",
       "     'last_updated': '2002-01-01T00:00:00Z',\n",
       "     'admin': {'bulk_upload': 'bulk_1234567890',\n",
       "      'current_application': 'qwertyuiop',\n",
       "      'editor_group': 'editorgroup',\n",
       "      'editor': 'associate',\n",
       "      'in_doaj': True,\n",
       "      'notes': [{'note': 'Second Note',\n",
       "        'date': '2014-05-22T00:00:00Z',\n",
       "        'id': '1234'},\n",
       "       {'note': 'First Note', 'date': '2014-05-21T14:02:45Z', 'id': 'abcd'}],\n",
       "      'owner': 'publisher',\n",
       "      'related_applications': [{'application_id': 'asdfghjkl',\n",
       "        'date_accepted': '2018-01-01T00:00:00Z'},\n",
       "       {'application_id': 'zxcvbnm'}],\n",
       "      'seal': False,\n",
       "      'ticked': True},\n",
       "     'bibjson': {'alternative_title': 'Alternative Title',\n",
       "      'apc': {'max': [{'currency': 'GBP', 'price': 2}],\n",
       "       'url': 'http://apc.com',\n",
       "       'has_apc': True},\n",
       "      'article': {'license_display': ['Embed'],\n",
       "       'license_display_example_url': 'http://licence.embedded',\n",
       "       'orcid': True,\n",
       "       'i4oc_open_citations': False},\n",
       "      'boai': True,\n",
       "      'copyright': {'author_retains': True, 'url': 'http://copyright.com'},\n",
       "      'deposit_policy': {'has_policy': True,\n",
       "       'service': ['Sherpa/Romeo', 'Store it'],\n",
       "       'url': 'http://deposit.policy'},\n",
       "      'discontinued_date': '2001-01-01',\n",
       "      'editorial': {'review_process': ['Open peer review',\n",
       "        'some bloke checks it out'],\n",
       "       'review_url': 'http://review.process',\n",
       "       'board_url': 'http://editorial.board'},\n",
       "      'eissn': '1387-4752',\n",
       "      'is_replaced_by': ['2222-2222'],\n",
       "      'institution': {'name': 'Society Institution', 'country': 'US'},\n",
       "      'keywords': ['word', 'key'],\n",
       "      'language': ['EN', 'FR'],\n",
       "      'license': [{'type': \"Publisher's own license\",\n",
       "        'BY': True,\n",
       "        'NC': True,\n",
       "        'ND': False,\n",
       "        'SA': False,\n",
       "        'url': 'http://licence.url'}],\n",
       "      'other_charges': {'has_other_charges': True,\n",
       "       'url': 'http://other.charges'},\n",
       "      'pid_scheme': {'has_pid_scheme': True,\n",
       "       'scheme': ['DOI', 'ARK', 'PURL', 'PIDMachine']},\n",
       "      'pissn': '5503-3454',\n",
       "      'plagiarism': {'detection': True, 'url': 'http://plagiarism.screening'},\n",
       "      'preservation': {'has_preservation': True,\n",
       "       'service': ['LOCKSS', 'CLOCKSS', 'A safe place'],\n",
       "       'national_library': ['Trinity', 'Imperial'],\n",
       "       'url': 'http://digital.archiving.policy'},\n",
       "      'publication_time_weeks': 8,\n",
       "      'publisher': {'name': 'The Publisher', 'country': 'US'},\n",
       "      'ref': {'oa_statement': 'http://oa.statement',\n",
       "       'journal': 'http://journal.url',\n",
       "       'aims_scope': 'http://aims.scope',\n",
       "       'author_instructions': 'http://author.instructions.com',\n",
       "       'license_terms': 'http://licence.url'},\n",
       "      'replaces': ['1111-1111'],\n",
       "      'subject': [{'scheme': 'LCC',\n",
       "        'term': 'Economic theory. Demography',\n",
       "        'code': 'HB1-3840'},\n",
       "       {'scheme': 'LCC', 'term': 'Social Sciences', 'code': 'H'}],\n",
       "      'title': 'Test Title 1',\n",
       "      'waiver': {'has_waiver': True, 'url': 'http://waiver.policy'}}}},\n",
       "   {'_index': 'doaj-journal',\n",
       "    '_type': '_doc',\n",
       "    '_id': 'journalid2',\n",
       "    '_score': 1.0,\n",
       "    '_source': {'id': 'journalid2',\n",
       "     'created_date': '2000-02-01T00:00:00Z',\n",
       "     'last_manual_update': '2001-01-01T00:00:00Z',\n",
       "     'last_updated': '2002-01-01T00:00:00Z',\n",
       "     'admin': {'bulk_upload': 'bulk_1234567890',\n",
       "      'current_application': 'qwertyuiop',\n",
       "      'editor_group': 'editorgroup',\n",
       "      'editor': 'associate',\n",
       "      'in_doaj': False,\n",
       "      'notes': [{'note': 'Second Note',\n",
       "        'date': '2014-05-22T00:00:00Z',\n",
       "        'id': '1234'},\n",
       "       {'note': 'First Note', 'date': '2014-05-21T14:02:45Z', 'id': 'abcd'}],\n",
       "      'owner': 'publisher',\n",
       "      'related_applications': [{'application_id': 'asdfghjkl',\n",
       "        'date_accepted': '2018-01-01T00:00:00Z'},\n",
       "       {'application_id': 'zxcvbnm'}],\n",
       "      'seal': False,\n",
       "      'ticked': True},\n",
       "     'bibjson': {'alternative_title': 'Alternative Title',\n",
       "      'apc': {'max': [{'currency': 'GBP', 'price': 2}],\n",
       "       'url': 'http://apc.com',\n",
       "       'has_apc': True},\n",
       "      'article': {'license_display': ['Embed'],\n",
       "       'license_display_example_url': 'http://licence.embedded',\n",
       "       'orcid': True,\n",
       "       'i4oc_open_citations': False},\n",
       "      'boai': True,\n",
       "      'copyright': {'author_retains': True, 'url': 'http://copyright.com'},\n",
       "      'deposit_policy': {'has_policy': True,\n",
       "       'service': ['Sherpa/Romeo', 'Store it'],\n",
       "       'url': 'http://deposit.policy'},\n",
       "      'discontinued_date': '2001-01-01',\n",
       "      'editorial': {'review_process': ['Open peer review',\n",
       "        'some bloke checks it out'],\n",
       "       'review_url': 'http://review.process',\n",
       "       'board_url': 'http://editorial.board'},\n",
       "      'eissn': '7001-4395',\n",
       "      'is_replaced_by': ['2222-2222'],\n",
       "      'institution': {'name': 'Society Institution', 'country': 'US'},\n",
       "      'keywords': ['word', 'key'],\n",
       "      'language': ['EN', 'FR'],\n",
       "      'license': [{'type': \"Publisher's own license\",\n",
       "        'BY': True,\n",
       "        'NC': True,\n",
       "        'ND': False,\n",
       "        'SA': False,\n",
       "        'url': 'http://licence.url'}],\n",
       "      'other_charges': {'has_other_charges': True,\n",
       "       'url': 'http://other.charges'},\n",
       "      'pid_scheme': {'has_pid_scheme': True,\n",
       "       'scheme': ['DOI', 'ARK', 'PURL', 'PIDMachine']},\n",
       "      'pissn': '2198-5109',\n",
       "      'plagiarism': {'detection': True, 'url': 'http://plagiarism.screening'},\n",
       "      'preservation': {'has_preservation': True,\n",
       "       'service': ['LOCKSS', 'CLOCKSS', 'A safe place'],\n",
       "       'national_library': ['Trinity', 'Imperial'],\n",
       "       'url': 'http://digital.archiving.policy'},\n",
       "      'publication_time_weeks': 8,\n",
       "      'publisher': {'name': 'The Publisher', 'country': 'US'},\n",
       "      'ref': {'oa_statement': 'http://oa.statement',\n",
       "       'journal': 'http://journal.url',\n",
       "       'aims_scope': 'http://aims.scope',\n",
       "       'author_instructions': 'http://author.instructions.com',\n",
       "       'license_terms': 'http://licence.url'},\n",
       "      'replaces': ['1111-1111'],\n",
       "      'subject': [{'scheme': 'LCC',\n",
       "        'term': 'Economic theory. Demography',\n",
       "        'code': 'HB1-3840'},\n",
       "       {'scheme': 'LCC', 'term': 'Social Sciences', 'code': 'H'}],\n",
       "      'title': 'Test Title 2',\n",
       "      'waiver': {'has_waiver': True, 'url': 'http://waiver.policy'}}}},\n",
       "   {'_index': 'doaj-journal',\n",
       "    '_type': '_doc',\n",
       "    '_id': 'journalid3',\n",
       "    '_score': 1.0,\n",
       "    '_source': {'id': 'journalid3',\n",
       "     'created_date': '2000-03-01T00:00:00Z',\n",
       "     'last_manual_update': '2001-01-01T00:00:00Z',\n",
       "     'last_updated': '2002-01-01T00:00:00Z',\n",
       "     'admin': {'bulk_upload': 'bulk_1234567890',\n",
       "      'current_application': 'qwertyuiop',\n",
       "      'editor_group': 'editorgroup',\n",
       "      'editor': 'associate',\n",
       "      'in_doaj': True,\n",
       "      'notes': [{'note': 'Second Note',\n",
       "        'date': '2014-05-22T00:00:00Z',\n",
       "        'id': '1234'},\n",
       "       {'note': 'First Note', 'date': '2014-05-21T14:02:45Z', 'id': 'abcd'}],\n",
       "      'owner': 'publisher',\n",
       "      'related_applications': [{'application_id': 'asdfghjkl',\n",
       "        'date_accepted': '2018-01-01T00:00:00Z'},\n",
       "       {'application_id': 'zxcvbnm'}],\n",
       "      'seal': False,\n",
       "      'ticked': True},\n",
       "     'bibjson': {'alternative_title': 'Alternative Title',\n",
       "      'apc': {'max': [{'currency': 'GBP', 'price': 2}],\n",
       "       'url': 'http://apc.com',\n",
       "       'has_apc': True},\n",
       "      'article': {'license_display': ['Embed'],\n",
       "       'license_display_example_url': 'http://licence.embedded',\n",
       "       'orcid': True,\n",
       "       'i4oc_open_citations': False},\n",
       "      'boai': True,\n",
       "      'copyright': {'author_retains': True, 'url': 'http://copyright.com'},\n",
       "      'deposit_policy': {'has_policy': True,\n",
       "       'service': ['Sherpa/Romeo', 'Store it'],\n",
       "       'url': 'http://deposit.policy'},\n",
       "      'discontinued_date': '2001-01-01',\n",
       "      'editorial': {'review_process': ['Open peer review',\n",
       "        'some bloke checks it out'],\n",
       "       'review_url': 'http://review.process',\n",
       "       'board_url': 'http://editorial.board'},\n",
       "      'eissn': '6093-2484',\n",
       "      'is_replaced_by': ['2222-2222'],\n",
       "      'institution': {'name': 'Society Institution', 'country': 'US'},\n",
       "      'keywords': ['word', 'key'],\n",
       "      'language': ['EN', 'FR'],\n",
       "      'license': [{'type': \"Publisher's own license\",\n",
       "        'BY': True,\n",
       "        'NC': True,\n",
       "        'ND': False,\n",
       "        'SA': False,\n",
       "        'url': 'http://licence.url'}],\n",
       "      'other_charges': {'has_other_charges': True,\n",
       "       'url': 'http://other.charges'},\n",
       "      'pid_scheme': {'has_pid_scheme': True,\n",
       "       'scheme': ['DOI', 'ARK', 'PURL', 'PIDMachine']},\n",
       "      'pissn': '3765-615X',\n",
       "      'plagiarism': {'detection': True, 'url': 'http://plagiarism.screening'},\n",
       "      'preservation': {'has_preservation': True,\n",
       "       'service': ['LOCKSS', 'CLOCKSS', 'A safe place'],\n",
       "       'national_library': ['Trinity', 'Imperial'],\n",
       "       'url': 'http://digital.archiving.policy'},\n",
       "      'publication_time_weeks': 8,\n",
       "      'publisher': {'name': 'The Publisher', 'country': 'US'},\n",
       "      'ref': {'oa_statement': 'http://oa.statement',\n",
       "       'journal': 'http://journal.url',\n",
       "       'aims_scope': 'http://aims.scope',\n",
       "       'author_instructions': 'http://author.instructions.com',\n",
       "       'license_terms': 'http://licence.url'},\n",
       "      'replaces': ['1111-1111'],\n",
       "      'subject': [{'scheme': 'LCC',\n",
       "        'term': 'Economic theory. Demography',\n",
       "        'code': 'HB1-3840'},\n",
       "       {'scheme': 'LCC', 'term': 'Social Sciences', 'code': 'H'}],\n",
       "      'title': 'Test Title 3',\n",
       "      'waiver': {'has_waiver': True, 'url': 'http://waiver.policy'}}}}]}}"
      ]
     },
     "execution_count": 53,
     "metadata": {},
     "output_type": "execute_result"
    }
   ],
   "source": [
    "# Demonstrate the alias lets us expose only the journals in doaj\n",
    "\n",
    "es.search({'query': {'match_all': {}}}, index='journal')"
   ]
  },
  {
   "cell_type": "code",
   "execution_count": 54,
   "metadata": {
    "pycharm": {
     "name": "#%%\n"
    }
   },
   "outputs": [
    {
     "data": {
      "text/plain": [
       "{'took': 4,\n",
       " 'timed_out': False,\n",
       " '_shards': {'total': 1, 'successful': 1, 'skipped': 0, 'failed': 0},\n",
       " 'hits': {'total': {'value': 2, 'relation': 'eq'},\n",
       "  'max_score': 1.0,\n",
       "  'hits': [{'_index': 'doaj-journal',\n",
       "    '_type': '_doc',\n",
       "    '_id': 'journalid1',\n",
       "    '_score': 1.0,\n",
       "    '_source': {'id': 'journalid1',\n",
       "     'created_date': '2000-01-01T00:00:00Z',\n",
       "     'last_manual_update': '2001-01-01T00:00:00Z',\n",
       "     'last_updated': '2002-01-01T00:00:00Z',\n",
       "     'admin': {'bulk_upload': 'bulk_1234567890',\n",
       "      'current_application': 'qwertyuiop',\n",
       "      'editor_group': 'editorgroup',\n",
       "      'editor': 'associate',\n",
       "      'in_doaj': True,\n",
       "      'notes': [{'note': 'Second Note',\n",
       "        'date': '2014-05-22T00:00:00Z',\n",
       "        'id': '1234'},\n",
       "       {'note': 'First Note', 'date': '2014-05-21T14:02:45Z', 'id': 'abcd'}],\n",
       "      'owner': 'publisher',\n",
       "      'related_applications': [{'application_id': 'asdfghjkl',\n",
       "        'date_accepted': '2018-01-01T00:00:00Z'},\n",
       "       {'application_id': 'zxcvbnm'}],\n",
       "      'seal': False,\n",
       "      'ticked': True},\n",
       "     'bibjson': {'alternative_title': 'Alternative Title',\n",
       "      'apc': {'max': [{'currency': 'GBP', 'price': 2}],\n",
       "       'url': 'http://apc.com',\n",
       "       'has_apc': True},\n",
       "      'article': {'license_display': ['Embed'],\n",
       "       'license_display_example_url': 'http://licence.embedded',\n",
       "       'orcid': True,\n",
       "       'i4oc_open_citations': False},\n",
       "      'boai': True,\n",
       "      'copyright': {'author_retains': True, 'url': 'http://copyright.com'},\n",
       "      'deposit_policy': {'has_policy': True,\n",
       "       'service': ['Sherpa/Romeo', 'Store it'],\n",
       "       'url': 'http://deposit.policy'},\n",
       "      'discontinued_date': '2001-01-01',\n",
       "      'editorial': {'review_process': ['Open peer review',\n",
       "        'some bloke checks it out'],\n",
       "       'review_url': 'http://review.process',\n",
       "       'board_url': 'http://editorial.board'},\n",
       "      'eissn': '1387-4752',\n",
       "      'is_replaced_by': ['2222-2222'],\n",
       "      'institution': {'name': 'Society Institution', 'country': 'US'},\n",
       "      'keywords': ['word', 'key'],\n",
       "      'language': ['EN', 'FR'],\n",
       "      'license': [{'type': \"Publisher's own license\",\n",
       "        'BY': True,\n",
       "        'NC': True,\n",
       "        'ND': False,\n",
       "        'SA': False,\n",
       "        'url': 'http://licence.url'}],\n",
       "      'other_charges': {'has_other_charges': True,\n",
       "       'url': 'http://other.charges'},\n",
       "      'pid_scheme': {'has_pid_scheme': True,\n",
       "       'scheme': ['DOI', 'ARK', 'PURL', 'PIDMachine']},\n",
       "      'pissn': '5503-3454',\n",
       "      'plagiarism': {'detection': True, 'url': 'http://plagiarism.screening'},\n",
       "      'preservation': {'has_preservation': True,\n",
       "       'service': ['LOCKSS', 'CLOCKSS', 'A safe place'],\n",
       "       'national_library': ['Trinity', 'Imperial'],\n",
       "       'url': 'http://digital.archiving.policy'},\n",
       "      'publication_time_weeks': 8,\n",
       "      'publisher': {'name': 'The Publisher', 'country': 'US'},\n",
       "      'ref': {'oa_statement': 'http://oa.statement',\n",
       "       'journal': 'http://journal.url',\n",
       "       'aims_scope': 'http://aims.scope',\n",
       "       'author_instructions': 'http://author.instructions.com',\n",
       "       'license_terms': 'http://licence.url'},\n",
       "      'replaces': ['1111-1111'],\n",
       "      'subject': [{'scheme': 'LCC',\n",
       "        'term': 'Economic theory. Demography',\n",
       "        'code': 'HB1-3840'},\n",
       "       {'scheme': 'LCC', 'term': 'Social Sciences', 'code': 'H'}],\n",
       "      'title': 'Test Title 1',\n",
       "      'waiver': {'has_waiver': True, 'url': 'http://waiver.policy'}}}},\n",
       "   {'_index': 'doaj-journal',\n",
       "    '_type': '_doc',\n",
       "    '_id': 'journalid3',\n",
       "    '_score': 1.0,\n",
       "    '_source': {'id': 'journalid3',\n",
       "     'created_date': '2000-03-01T00:00:00Z',\n",
       "     'last_manual_update': '2001-01-01T00:00:00Z',\n",
       "     'last_updated': '2002-01-01T00:00:00Z',\n",
       "     'admin': {'bulk_upload': 'bulk_1234567890',\n",
       "      'current_application': 'qwertyuiop',\n",
       "      'editor_group': 'editorgroup',\n",
       "      'editor': 'associate',\n",
       "      'in_doaj': True,\n",
       "      'notes': [{'note': 'Second Note',\n",
       "        'date': '2014-05-22T00:00:00Z',\n",
       "        'id': '1234'},\n",
       "       {'note': 'First Note', 'date': '2014-05-21T14:02:45Z', 'id': 'abcd'}],\n",
       "      'owner': 'publisher',\n",
       "      'related_applications': [{'application_id': 'asdfghjkl',\n",
       "        'date_accepted': '2018-01-01T00:00:00Z'},\n",
       "       {'application_id': 'zxcvbnm'}],\n",
       "      'seal': False,\n",
       "      'ticked': True},\n",
       "     'bibjson': {'alternative_title': 'Alternative Title',\n",
       "      'apc': {'max': [{'currency': 'GBP', 'price': 2}],\n",
       "       'url': 'http://apc.com',\n",
       "       'has_apc': True},\n",
       "      'article': {'license_display': ['Embed'],\n",
       "       'license_display_example_url': 'http://licence.embedded',\n",
       "       'orcid': True,\n",
       "       'i4oc_open_citations': False},\n",
       "      'boai': True,\n",
       "      'copyright': {'author_retains': True, 'url': 'http://copyright.com'},\n",
       "      'deposit_policy': {'has_policy': True,\n",
       "       'service': ['Sherpa/Romeo', 'Store it'],\n",
       "       'url': 'http://deposit.policy'},\n",
       "      'discontinued_date': '2001-01-01',\n",
       "      'editorial': {'review_process': ['Open peer review',\n",
       "        'some bloke checks it out'],\n",
       "       'review_url': 'http://review.process',\n",
       "       'board_url': 'http://editorial.board'},\n",
       "      'eissn': '6093-2484',\n",
       "      'is_replaced_by': ['2222-2222'],\n",
       "      'institution': {'name': 'Society Institution', 'country': 'US'},\n",
       "      'keywords': ['word', 'key'],\n",
       "      'language': ['EN', 'FR'],\n",
       "      'license': [{'type': \"Publisher's own license\",\n",
       "        'BY': True,\n",
       "        'NC': True,\n",
       "        'ND': False,\n",
       "        'SA': False,\n",
       "        'url': 'http://licence.url'}],\n",
       "      'other_charges': {'has_other_charges': True,\n",
       "       'url': 'http://other.charges'},\n",
       "      'pid_scheme': {'has_pid_scheme': True,\n",
       "       'scheme': ['DOI', 'ARK', 'PURL', 'PIDMachine']},\n",
       "      'pissn': '3765-615X',\n",
       "      'plagiarism': {'detection': True, 'url': 'http://plagiarism.screening'},\n",
       "      'preservation': {'has_preservation': True,\n",
       "       'service': ['LOCKSS', 'CLOCKSS', 'A safe place'],\n",
       "       'national_library': ['Trinity', 'Imperial'],\n",
       "       'url': 'http://digital.archiving.policy'},\n",
       "      'publication_time_weeks': 8,\n",
       "      'publisher': {'name': 'The Publisher', 'country': 'US'},\n",
       "      'ref': {'oa_statement': 'http://oa.statement',\n",
       "       'journal': 'http://journal.url',\n",
       "       'aims_scope': 'http://aims.scope',\n",
       "       'author_instructions': 'http://author.instructions.com',\n",
       "       'license_terms': 'http://licence.url'},\n",
       "      'replaces': ['1111-1111'],\n",
       "      'subject': [{'scheme': 'LCC',\n",
       "        'term': 'Economic theory. Demography',\n",
       "        'code': 'HB1-3840'},\n",
       "       {'scheme': 'LCC', 'term': 'Social Sciences', 'code': 'H'}],\n",
       "      'title': 'Test Title 3',\n",
       "      'waiver': {'has_waiver': True, 'url': 'http://waiver.policy'}}}}]}}"
      ]
     },
     "execution_count": 54,
     "metadata": {},
     "output_type": "execute_result"
    }
   ],
   "source": [
    "es.search({'query': {'match_all': {}}}, index='journal-public')"
   ]
  },
  {
   "cell_type": "markdown",
   "metadata": {
    "pycharm": {
     "name": "#%% md\n"
    }
   },
   "source": [
    "### Analyzers, tokens, filters"
   ]
  },
  {
   "cell_type": "code",
   "execution_count": null,
   "outputs": [],
   "source": [
    "### Journal mapping"
   ],
   "metadata": {
    "collapsed": false,
    "pycharm": {
     "name": "#%%md\n"
    }
   }
  },
  {
   "cell_type": "code",
   "execution_count": null,
   "outputs": [],
   "source": [
    "# Old mapping\n",
    "\n",
    "# New mapping"
   ],
   "metadata": {
    "collapsed": false,
    "pycharm": {
     "name": "#%%\n"
    }
   }
  },
  {
   "cell_type": "markdown",
   "source": [
    "### Filtered query\n",
    "\n",
    "``` json\n",
    "# Old ISSN query\n",
    "{\n",
    "    \"query\": {\n",
    "        \"filtered\": {\n",
    "            \"filter\": {\n",
    "                \"bool\": {\n",
    "                    \"must\": [\n",
    "                        {\n",
    "                            \"terms\": {\n",
    "                                \"index.issn.exact\": [\n",
    "                                    \"1000-0000\",\n",
    "                                    \"2000-0000\"\n",
    "                                ]\n",
    "                            }\n",
    "                        }\n",
    "                    ]\n",
    "                }\n",
    "            }\n",
    "        }\n",
    "    }\n",
    "}\n",
    "\n",
    "# New ISSN query - same but with filtered removed and filter inside bool\n",
    "\n",
    "{\n",
    "    \"query\": {\n",
    "        \"bool\": {\n",
    "            \"filter\": {\n",
    "                \"must\": [\n",
    "                    {\n",
    "                        \"terms\": {\n",
    "                            \"index.issn.exact\": [\n",
    "                                \"1000-0000\",\n",
    "                                \"2000-0000\"\n",
    "                            ]\n",
    "                        }\n",
    "                    }\n",
    "                ]\n",
    "            }\n",
    "        }\n",
    "    }\n",
    "}\n",
    "```"
   ],
   "metadata": {
    "collapsed": false,
    "pycharm": {
     "name": "#%% md\n"
    }
   }
  },
  {
   "cell_type": "code",
   "execution_count": null,
   "outputs": [],
   "source": [],
   "metadata": {
    "collapsed": false,
    "pycharm": {
     "name": "#%%\n"
    }
   }
  }
 ],
 "metadata": {
  "kernelspec": {
   "display_name": "Python 3",
   "language": "python",
   "name": "python3"
  },
  "language_info": {
   "codemirror_mode": {
    "name": "ipython",
    "version": 3
   },
   "file_extension": ".py",
   "mimetype": "text/x-python",
   "name": "python",
   "nbconvert_exporter": "python",
   "pygments_lexer": "ipython3",
   "version": "3.8.6"
  }
 },
 "nbformat": 4,
 "nbformat_minor": 1
}