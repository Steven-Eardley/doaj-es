{
 "cells": [
  {
   "cell_type": "markdown",
   "metadata": {
    "pycharm": {
     "name": "#%% md\n"
    }
   },
   "source": [
    "# DOAJ Elasticsearch / Indexing Presentation\n",
    "_Steve, Cottage Labs, 2022_\n",
    "\n",
    "Here I will cover the basics of our ElasticSearch document store, indexes in general, and its use and consequences for our system.\n",
    "\n",
    "Elasticsearch runs on a separate machine to the DOAJ application, in production my first step is use the firewall to ensure only the right machines can talk to it. It stores all of our dynamic data, including our users, which contains personally identifiable info such as email addresses. Therefore it's a private network connecting our machines - meaning not over the internet.\n",
    "\n",
    "Here I'll use Docker to produce two elasticsearch hosts here on my laptop, and connect to them with Python so I can demonstrate what an index does for us."
   ]
  },
  {
   "cell_type": "code",
   "execution_count": 3,
   "metadata": {
    "pycharm": {
     "name": "#%%\n"
    }
   },
   "outputs": [],
   "source": [
    "import json\n",
    "\n",
    "import elasticsearch\n",
    "es1 = {'scheme': 'http', 'host': 'localhost', 'port': 9201}\n",
    "es2 = {'scheme': 'http', 'host': 'localhost', 'port': 9202}\n",
    "es = elasticsearch.Elasticsearch([es1, es2])"
   ]
  },
  {
   "cell_type": "code",
   "execution_count": 4,
   "metadata": {
    "pycharm": {
     "name": "#%%\n"
    }
   },
   "outputs": [
    {
     "data": {
      "text/plain": "{'acknowledged': True}"
     },
     "execution_count": 4,
     "metadata": {},
     "output_type": "execute_result"
    }
   ],
   "source": [
    "es.indices.delete(index='doaj-es-demo')"
   ]
  },
  {
   "cell_type": "code",
   "execution_count": 5,
   "outputs": [
    {
     "data": {
      "text/plain": "{'acknowledged': True, 'shards_acknowledged': True, 'index': 'doaj-es-demo'}"
     },
     "execution_count": 5,
     "metadata": {},
     "output_type": "execute_result"
    }
   ],
   "source": [
    "es.indices.create(index='doaj-es-demo')"
   ],
   "metadata": {
    "collapsed": false,
    "pycharm": {
     "name": "#%%\n"
    }
   }
  },
  {
   "cell_type": "markdown",
   "metadata": {
    "pycharm": {
     "name": "#%% md\n"
    }
   },
   "source": [
    "## An index is different from a database\n",
    "\n",
    "A database is a table - much like a spreadsheet, it has headers and rows for all of the data.\n",
    "\n",
    "| ID  | Title                                             | ISSN      |\n",
    "|-----|---------------------------------------------------|-----------|\n",
    "| 001 | Journal of Spoons                                 | 1234-5678 |\n",
    "| 002 | Analytical Knitting                               | 9876-5432 |\n",
    "| 003 | Journal of Trivial Household Items and Their Uses | 1010-000X |\n",
    "| 004 | Journal of Most Exciting Journals                 | 3333-7777 |\n",
    "| 005 | Humerous Taxidermy                                | 2468-1012 |\n",
    "\n",
    "In a very basic database, you'd retrieve the full record with ISSN 9876-5432 by going through all of the rows, comparing the query with the value in the corresponding column. It's like reading the whole book to find the chapter you're interested in. Then you'd pull out the record by its ID.\n",
    "\n",
    "Like in a book, an **index** allows you to search more efficiently by directly pointing the interesting information to the ID of the record - it's less to search through, but also it can be organised for efficient searching, e.g. by doing a binary search (all the ISSNs starting with odd number, and so on) you'd be faster than looking through all of the records.\n",
    "\n",
    "### Structured vs unstructured data\n",
    "\n",
    "In our records table above, we have 3 fields - the ID, the Title, and the ISSN. Since we know how long ISSNs are we can make our database more efficient by explicitly specifying how much data that row can take. We need to specify the size and type of data when we create the table.\n",
    "\n",
    "In ElasticSearch and other document indexes, we store the records in a different format, namely JSON - JavaScript Object Notation. This is also similar to how objects look in Python. For example:"
   ]
  },
  {
   "cell_type": "code",
   "execution_count": 6,
   "metadata": {
    "pycharm": {
     "name": "#%%\n"
    }
   },
   "outputs": [
    {
     "data": {
      "text/plain": "[{'_index': 'doaj-es-demo',\n  '_type': '_doc',\n  '_id': '1',\n  '_version': 1,\n  'result': 'created',\n  '_shards': {'total': 2, 'successful': 1, 'failed': 0},\n  '_seq_no': 0,\n  '_primary_term': 1},\n {'_index': 'doaj-es-demo',\n  '_type': '_doc',\n  '_id': '2',\n  '_version': 1,\n  'result': 'created',\n  '_shards': {'total': 2, 'successful': 1, 'failed': 0},\n  '_seq_no': 1,\n  '_primary_term': 1},\n {'_index': 'doaj-es-demo',\n  '_type': '_doc',\n  '_id': '3',\n  '_version': 1,\n  'result': 'created',\n  '_shards': {'total': 2, 'successful': 1, 'failed': 0},\n  '_seq_no': 2,\n  '_primary_term': 1},\n {'_index': 'doaj-es-demo',\n  '_type': '_doc',\n  '_id': '4',\n  '_version': 1,\n  'result': 'created',\n  '_shards': {'total': 2, 'successful': 1, 'failed': 0},\n  '_seq_no': 3,\n  '_primary_term': 1},\n {'_index': 'doaj-es-demo',\n  '_type': '_doc',\n  '_id': '5',\n  '_version': 1,\n  'result': 'created',\n  '_shards': {'total': 2, 'successful': 1, 'failed': 0},\n  '_seq_no': 4,\n  '_primary_term': 1}]"
     },
     "execution_count": 6,
     "metadata": {},
     "output_type": "execute_result"
    }
   ],
   "source": [
    "table = [\n",
    "    {'ID': 1, 'Title': 'Journal of Spoons', 'ISSN': '1234-5678'},\n",
    "    {'ID': 2, 'Title': 'Analytical Knitting', 'ISSN': '9876-5432'},\n",
    "    {'ID': 3, 'Title': 'Journal of Trivial Household Items and Their Uses', 'ISSN': '1010-000X'},\n",
    "    {'ID': 4, 'Title': 'Journal of Most Exciting Journals', 'ISSN': '3333-7777'},\n",
    "    {'ID': 5, 'Title': 'Humerous Taxidermy', 'ISSN': '2468-1012'}\n",
    "]\n",
    "\n",
    "# Put the data in the index one record at a time\n",
    "[es.create(index='doaj-es-demo', body=json.dumps(row), id=row['ID']) for row in table]\n"
   ]
  },
  {
   "cell_type": "code",
   "execution_count": 11,
   "metadata": {
    "pycharm": {
     "name": "#%%\n"
    }
   },
   "outputs": [
    {
     "data": {
      "text/plain": "{'took': 5,\n 'timed_out': False,\n '_shards': {'total': 1, 'successful': 1, 'skipped': 0, 'failed': 0},\n 'hits': {'total': {'value': 6, 'relation': 'eq'},\n  'max_score': 1.0,\n  'hits': [{'_index': 'doaj-es-demo',\n    '_type': '_doc',\n    '_id': '1',\n    '_score': 1.0,\n    '_source': {'ID': 1, 'Title': 'Journal of Spoons', 'ISSN': '1234-5678'}},\n   {'_index': 'doaj-es-demo',\n    '_type': '_doc',\n    '_id': '2',\n    '_score': 1.0,\n    '_source': {'ID': 2, 'Title': 'Analytical Knitting', 'ISSN': '9876-5432'}},\n   {'_index': 'doaj-es-demo',\n    '_type': '_doc',\n    '_id': '3',\n    '_score': 1.0,\n    '_source': {'ID': 3,\n     'Title': 'Journal of Trivial Household Items and Their Uses',\n     'ISSN': '1010-000X'}},\n   {'_index': 'doaj-es-demo',\n    '_type': '_doc',\n    '_id': '4',\n    '_score': 1.0,\n    '_source': {'ID': 4,\n     'Title': 'Journal of Most Exciting Journals',\n     'ISSN': '3333-7777'}},\n   {'_index': 'doaj-es-demo',\n    '_type': '_doc',\n    '_id': '5',\n    '_score': 1.0,\n    '_source': {'ID': 5, 'Title': 'Humerous Taxidermy', 'ISSN': '2468-1012'}},\n   {'_index': 'doaj-es-demo',\n    '_type': '_doc',\n    '_id': '6',\n    '_score': 1.0,\n    '_source': {'ID': 6,\n     'Title': 'Reciprocal impulse',\n     'ISSN': '8888-8888',\n     'Publisher': 'Barry & Paul'}}]}}"
     },
     "execution_count": 11,
     "metadata": {},
     "output_type": "execute_result"
    }
   ],
   "source": [
    "# Check we can immediately retrieve these records by doing a search.\n",
    "es.search({'query': {'match_all': {}}}, index='doaj-es-demo')"
   ]
  },
  {
   "cell_type": "markdown",
   "metadata": {
    "pycharm": {
     "name": "#%% md\n"
    }
   },
   "source": [
    "# Using an index for search - fulltext search\n",
    "\n",
    "An document store lets us efficiently search for text content in our data, for example all of the article abstracts in DOAJ can be searched by words. Indexes do full-text search really well because they can analyse incoming text and build what's called an **inverted index** - just a summary of a document by word count.\n",
    "\n",
    "In order to treat all documents the same, we _normalise_ the text. Let's start with the following journal:\n",
    "\n",
    "    Journal of Trivial Household Items and Their Uses\n",
    "\n",
    "To make matching words easier, we change the letter case to be lowercase:\n",
    "\n",
    "    journal of trivial household items and their uses\n",
    "\n",
    "Next step is to ignore all of the boring words (stop words like _the_, _a_, etc.)\n",
    "\n",
    "    journal trivial household items uses\n",
    "\n",
    "ElasticSearch can also do additional natural language processing steps such as ascii filtering (`ö` -> `o`), stemming.\n",
    "\n",
    "    journal trivial household item use\n",
    "\n",
    "Then store the frequency of each word in the inverted index (boringly, 1 of each in our case)\n",
    "\n",
    "| Word      | Count |\n",
    "|-----------|-------|\n",
    "| household | 1     |\n",
    "| item      | 1     |\n",
    "| journal   | 1     |\n",
    "| trivial   | 1     |\n",
    "\n",
    "More interestingly, _Journal of Most Exciting Journals_ would be represented something like this:\n",
    "\n",
    "| Word     | Count |\n",
    "|----------|-------|\n",
    "| exciting | 1     |\n",
    "| journal  | 2     |\n",
    "| most     | 1     |\n",
    "\n",
    "Since we have a higher count of the word stem `journal` we'd expect to see a better match when we search our ElasticSearch index we'd expect that result to be on top, and for all of our _Journal of..._ documents to be returned as well. ElasticSearch will do the same normalisation steps to the search text as it does to the whole document."
   ]
  },
  {
   "cell_type": "code",
   "execution_count": 8,
   "metadata": {
    "pycharm": {
     "name": "#%%\n"
    }
   },
   "outputs": [
    {
     "data": {
      "text/plain": "{'took': 73,\n 'timed_out': False,\n '_shards': {'total': 1, 'successful': 1, 'skipped': 0, 'failed': 0},\n 'hits': {'total': {'value': 3, 'relation': 'eq'},\n  'max_score': 0.60040116,\n  'hits': [{'_index': 'doaj-es-demo',\n    '_type': '_doc',\n    '_id': '1',\n    '_score': 0.60040116,\n    '_source': {'ID': 1, 'Title': 'Journal of Spoons', 'ISSN': '1234-5678'}},\n   {'_index': 'doaj-es-demo',\n    '_type': '_doc',\n    '_id': '4',\n    '_score': 0.4889865,\n    '_source': {'ID': 4,\n     'Title': 'Journal of Most Exciting Journals',\n     'ISSN': '3333-7777'}},\n   {'_index': 'doaj-es-demo',\n    '_type': '_doc',\n    '_id': '3',\n    '_score': 0.38251364,\n    '_source': {'ID': 3,\n     'Title': 'Journal of Trivial Household Items and Their Uses',\n     'ISSN': '1010-000X'}}]}}"
     },
     "execution_count": 8,
     "metadata": {},
     "output_type": "execute_result"
    }
   ],
   "source": [
    "# Check results ordering on fulltext search\n",
    "es.search({'query': {'query_string': {'query': 'Journal'}}}, index='doaj-es-demo')"
   ]
  },
  {
   "cell_type": "markdown",
   "metadata": {
    "pycharm": {
     "name": "#%% md\n"
    }
   },
   "source": [
    "# Dynamic Data\n",
    "\n",
    "Imagine we'd like to add a 4th column to our table, for the Publisher.\n",
    "\n",
    "| ID  | Title              | ISSN      | Publisher    |\n",
    "|-----|--------------------|-----------|--------------|\n",
    "| 006 | Reciprocal impulse | 8888-8888 | Barry & Paul |\n",
    "\n",
    "In a normal database table, we can't just decide to add this field - we have to explicitly add the column and its data type. Here, Elasticsearch is a little different - we can just add a new document with the additional field, and it will accept it.\n"
   ]
  },
  {
   "cell_type": "code",
   "execution_count": 9,
   "metadata": {
    "pycharm": {
     "name": "#%%\n"
    }
   },
   "outputs": [
    {
     "data": {
      "text/plain": "{'_index': 'doaj-es-demo',\n '_type': '_doc',\n '_id': '6',\n '_version': 1,\n 'result': 'created',\n '_shards': {'total': 2, 'successful': 1, 'failed': 0},\n '_seq_no': 5,\n '_primary_term': 1}"
     },
     "execution_count": 9,
     "metadata": {},
     "output_type": "execute_result"
    }
   ],
   "source": [
    "# 6th record with additional field for publisher\n",
    "rec = {'ID': 6, 'Title': 'Reciprocal impulse', 'ISSN': '8888-8888', 'Publisher': \"Barry & Paul\"}\n",
    "es.create(index='doaj-es-demo', body=json.dumps(rec), id=rec['ID'])"
   ]
  },
  {
   "cell_type": "code",
   "execution_count": 10,
   "metadata": {
    "pycharm": {
     "name": "#%%\n"
    }
   },
   "outputs": [
    {
     "data": {
      "text/plain": "{'_index': 'doaj-es-demo',\n '_type': '_doc',\n '_id': '6',\n '_version': 1,\n '_seq_no': 5,\n '_primary_term': 1,\n 'found': True,\n '_source': {'ID': 6,\n  'Title': 'Reciprocal impulse',\n  'ISSN': '8888-8888',\n  'Publisher': 'Barry & Paul'}}"
     },
     "execution_count": 10,
     "metadata": {},
     "output_type": "execute_result"
    }
   ],
   "source": [
    "# Retrieve the above record to show it's saved\n",
    "es.get(index='doaj-es-demo', id=6)"
   ]
  },
  {
   "cell_type": "markdown",
   "metadata": {
    "pycharm": {
     "name": "#%% md\n"
    }
   },
   "source": [
    "This is all possible via **dynamic mapping** - ElasticSearch knows how to treat a new field based on the type of data it detects. In this case it worked out that the new field contains text, so the structure of our documents was updated to add this field."
   ]
  },
  {
   "cell_type": "code",
   "execution_count": 12,
   "metadata": {
    "pycharm": {
     "name": "#%%\n"
    }
   },
   "outputs": [
    {
     "data": {
      "text/plain": "{'doaj-es-demo': {'mappings': {'properties': {'ID': {'type': 'long'},\n    'ISSN': {'type': 'text',\n     'fields': {'keyword': {'type': 'keyword', 'ignore_above': 256}}},\n    'Publisher': {'type': 'text',\n     'fields': {'keyword': {'type': 'keyword', 'ignore_above': 256}}},\n    'Title': {'type': 'text',\n     'fields': {'keyword': {'type': 'keyword', 'ignore_above': 256}}}}}}}"
     },
     "execution_count": 12,
     "metadata": {},
     "output_type": "execute_result"
    }
   ],
   "source": [
    "es.indices.get_mapping(index='doaj-es-demo')"
   ]
  },
  {
   "cell_type": "markdown",
   "metadata": {
    "pycharm": {
     "name": "#%% md\n"
    }
   },
   "source": [
    "You can see that when we added our documents, it interpreted all of the fields as text apart from the ID which is a number - 'long' means a signed 64-bit integer. The data type affects the type of analysis you can do on a particular field - e.g. it knows that a number can be continuous, and text can be broken down into words.\n",
    "\n",
    "## The DOAJ mapping\n",
    "\n",
    "Instead of relying on the default dynamic mapping for the DOAJ, for most of the data we store we explicitly tell ElasticSearch what its mapping should be, this ensures the documents we upload are searchable with our interface. Here's a portion of the DOAJ's mapping:\n",
    "\n",
    "```json\n",
    "\"apc\": {\n",
    "    \"properties\": {\n",
    "        \"has_apc\": {\n",
    "            \"type\": \"boolean\"\n",
    "        },\n",
    "        \"max\": {\n",
    "            \"properties\": {\n",
    "                \"currency\": {\n",
    "                    \"type\": \"text\",\n",
    "                    \"fields\": {\n",
    "                        \"exact\": {\n",
    "                            \"type\": \"keyword\",\n",
    "                            \"store\": true\n",
    "                        }\n",
    "                    }\n",
    "                },\n",
    "                \"price\": {\n",
    "                    \"type\": \"long\"\n",
    "                }\n",
    "            }\n",
    "        },\n",
    "        \"url\": {\n",
    "            \"type\": \"text\",\n",
    "            \"fields\": {\n",
    "                \"exact\": {\n",
    "                    \"type\": \"keyword\",\n",
    "                    \"store\": true\n",
    "                }\n",
    "            }\n",
    "        }\n",
    "    }\n",
    "},\n",
    "```\n",
    "\n",
    "We generate this mapping using our internal data structure, so it should always be in sync with whatever the code expects to work with.\n",
    "\n",
    "### Changing the mapping\n",
    "\n",
    "We've seen that ElasticSearch can, via the dynamic mapping, incorporate the addition of fields in the records. The same is true via the explicit mapping above, but what happens when you need to remove a field, or change its data type?\n",
    "\n",
    "You can't just edit the mapping directly, because all of your existing data will be invalid. You can't just upload a new document with the new structure, because it won't match the existing mapping. So that's why these changes require a **re-index** - we need to move all of the records from one structure to another, and load them again for search.\n",
    "\n"
   ]
  }
 ],
 "metadata": {
  "kernelspec": {
   "display_name": "Python 3 (ipykernel)",
   "language": "python",
   "name": "python3"
  },
  "language_info": {
   "codemirror_mode": {
    "name": "ipython",
    "version": 3
   },
   "file_extension": ".py",
   "mimetype": "text/x-python",
   "name": "python",
   "nbconvert_exporter": "python",
   "pygments_lexer": "ipython3",
   "version": "3.9.7"
  }
 },
 "nbformat": 4,
 "nbformat_minor": 1
}