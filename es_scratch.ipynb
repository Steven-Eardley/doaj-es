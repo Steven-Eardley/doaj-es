{
 "cells": [
  {
   "cell_type": "markdown",
   "source": [
    "## Goal: Investigate ES 1.7 -> 7.10 upgrade for DOAJ\n",
    "\n",
    "Prerequisites: ES cluster to talk to (docker or local)\n",
    "To start the docker elasticsearch cluster, first increase virtual memory available:\n",
    "\n",
    "temporarily with `sysctl -w vm.max_map_count=262144`\n",
    "or permanently via setting:\n",
    "`vm.max_map_count` to `262144` in `/etc/sysctl.conf`\n",
    "\n",
    "(in virtualenv) `pip install elasticsearch jupyter`\n",
    "\n",
    "https://elasticsearch-py.readthedocs.io/en/7.10.0/"
   ],
   "metadata": {
    "collapsed": false
   }
  },
  {
   "cell_type": "code",
   "execution_count": 1,
   "outputs": [],
   "source": [
    "from elasticsearch import Elasticsearch"
   ],
   "metadata": {
    "collapsed": false,
    "pycharm": {
     "name": "#%%\n"
    }
   }
  },
  {
   "cell_type": "markdown",
   "source": [
    "This plugin can use more than one host, so check if it'll handle the fail-over for us"
   ],
   "metadata": {
    "collapsed": false,
    "pycharm": {
     "name": "#%% md\n"
    }
   }
  },
  {
   "cell_type": "code",
   "execution_count": 7,
   "outputs": [],
   "source": [
    "# For local\n",
    "es_local = {'host': 'localhost', 'port': 9200}\n",
    "esl = Elasticsearch([es_local])"
   ],
   "metadata": {
    "collapsed": false,
    "pycharm": {
     "name": "#%%\n"
    }
   }
  },
  {
   "cell_type": "code",
   "execution_count": 2,
   "outputs": [],
   "source": [
    "# For docker cluster\n",
    "es1 = {'host': 'localhost', 'port': 9201}\n",
    "es2 = {'host': 'localhost', 'port': 9202}\n",
    "es = Elasticsearch([es1, es2])"
   ],
   "metadata": {
    "collapsed": false,
    "pycharm": {
     "name": "#%%\n"
    }
   }
  },
  {
   "cell_type": "markdown",
   "source": [
    "## Create an index with mappings"
   ],
   "metadata": {
    "collapsed": false,
    "pycharm": {
     "name": "#%% md\n"
    }
   }
  },
  {
   "cell_type": "code",
   "execution_count": 24,
   "outputs": [],
   "source": [
    "TEST_SETTINGS = {\n",
    "  \"mappings\": {\n",
    "    \"dynamic_templates\": [\n",
    "      {\n",
    "        \"integers\": {\n",
    "          \"match_mapping_type\": \"long\",\n",
    "          \"mapping\": {\n",
    "            \"type\": \"integer\"\n",
    "          }\n",
    "        }\n",
    "      },\n",
    "\n",
    "    ]\n",
    "  }\n",
    "}\n",
    "\n",
    "DOC = {\n",
    "  \"my_integer\": 5,\n",
    "  \"my_string\": \"Some string\"\n",
    "}\n",
    "#es.indices.create(index='test_index', body=TEST_SETTINGS)\n",
    "resp =es.index(index='test_index', body=DOC)\n"
   ],
   "metadata": {
    "collapsed": false,
    "pycharm": {
     "name": "#%%\n"
    }
   }
  },
  {
   "cell_type": "code",
   "execution_count": 25,
   "outputs": [
    {
     "data": {
      "text/plain": "{'acknowledged': True, 'shards_acknowledged': True, 'index': 'doaj-account'}"
     },
     "execution_count": 25,
     "metadata": {},
     "output_type": "execute_result"
    }
   ],
   "source": [
    "# DOAJ mapping for account (default dynamic)\n",
    "# Esprit creates an index the puts the mapping in 2 ops\n",
    "# {'doc': {'dynamic_templates': [{'default': {'match': '*', 'match_mapping_type': 'string', 'mapping': {'type': 'multi_field', 'fields': {'{name}': {'type': '{dynamic_type}', 'index': 'analyzed', 'store': 'no'}, 'exact': {'type': '{dynamic_type}', 'index': 'not_analyzed', 'store': 'yes'}}}}}]}}\n",
    "# 'http://localhost:9200/doajtest-account/_mapping/doc'\n",
    "\n",
    "# todo: we should tailor index settings (shards, replicas) to the data\n",
    "\n",
    "# Aliases may allow us to simplify the in_doaj stuff, e.g.\n",
    "# 'aliases': {\n",
    "#     'journal-public': {\n",
    "#         'filter': {\n",
    "#             'term': { 'admin.in_doaj': 'true' }\n",
    "#         }\n",
    "#     }\n",
    "\n",
    "# OLD_DOAJ_DYNAMIC = {\n",
    "#     'dynamic_templates': [\n",
    "#             {\n",
    "#                 'default': {\n",
    "#                     'match': '*', 'match_mapping_type': 'string', 'mapping': {\n",
    "#                         'type': 'multi_field', 'fields': {\n",
    "#                             '{name}': {'type': '{dynamic_type}', 'index': 'analyzed', 'store': 'no'},\n",
    "#                             'exact': {'type': '{dynamic_type}', 'index': 'not_analyzed', 'store': 'yes'}}\n",
    "#                     }\n",
    "#                 }\n",
    "#             }\n",
    "#         ]\n",
    "#     }\n",
    "\n",
    "\n",
    "CREATE_BODY = {\n",
    "    'aliases': {\n",
    "        'account': {}\n",
    "    },\n",
    "    'mappings': {\n",
    "        'dynamic_templates': [\n",
    "            {\n",
    "                \"strings\": {\n",
    "                    \"match_mapping_type\": \"string\",\n",
    "                    \"mapping\": {\n",
    "                        \"type\": \"text\",\n",
    "                        \"fields\": {\n",
    "                            \"exact\": {\n",
    "                                \"type\": \"keyword\",\n",
    "                                \"ignore_above\": 256,\n",
    "                                \"normalizer\": \"lowercase\"\n",
    "                            }\n",
    "                        }\n",
    "                    }\n",
    "                }\n",
    "            }\n",
    "        ]\n",
    "    },\n",
    "    'settings': {\n",
    "        'number_of_shards': 4,\n",
    "        'number_of_replicas': 1\n",
    "    }\n",
    "}\n",
    "\n",
    "# todo: do we want to do a check on index init that it has the correct mappings?\n",
    "\n",
    "# Use the create index api with the mapping\n",
    "es.indices.create(index='doaj-account', body=CREATE_BODY)"
   ],
   "metadata": {
    "collapsed": false,
    "pycharm": {
     "name": "#%%\n"
    }
   }
  },
  {
   "cell_type": "markdown",
   "source": [
    "## Put some data in the index"
   ],
   "metadata": {
    "collapsed": false,
    "pycharm": {
     "name": "#%% md\n"
    }
   }
  },
  {
   "cell_type": "code",
   "execution_count": 27,
   "outputs": [
    {
     "ename": "ConflictError",
     "evalue": "ConflictError(409, 'version_conflict_engine_exception', '[steve]: version conflict, document already exists (current version [1])')",
     "output_type": "error",
     "traceback": [
      "\u001B[0;31m---------------------------------------------------------------------------\u001B[0m",
      "\u001B[0;31mConflictError\u001B[0m                             Traceback (most recent call last)",
      "\u001B[0;32m<ipython-input-27-b607105c9cef>\u001B[0m in \u001B[0;36m<module>\u001B[0;34m\u001B[0m\n\u001B[1;32m      1\u001B[0m \u001B[0msteve\u001B[0m \u001B[0;34m=\u001B[0m \u001B[0;34m{\u001B[0m\u001B[0;34m\"api_key\"\u001B[0m\u001B[0;34m:\u001B[0m \u001B[0;34m\"a441b8a81dc848aeb374860e03d52c39\"\u001B[0m\u001B[0;34m,\u001B[0m \u001B[0;34m\"last_updated\"\u001B[0m\u001B[0;34m:\u001B[0m \u001B[0;34m\"2021-04-27T09:49:11Z\"\u001B[0m\u001B[0;34m,\u001B[0m \u001B[0;34m\"marketing_consent\"\u001B[0m\u001B[0;34m:\u001B[0m \u001B[0;32mFalse\u001B[0m\u001B[0;34m,\u001B[0m \u001B[0;34m\"id\"\u001B[0m\u001B[0;34m:\u001B[0m \u001B[0;34m\"steve\"\u001B[0m\u001B[0;34m,\u001B[0m \u001B[0;34m\"role\"\u001B[0m\u001B[0;34m:\u001B[0m \u001B[0;34m[\u001B[0m\u001B[0;34m\"admin\"\u001B[0m\u001B[0;34m,\u001B[0m \u001B[0;34m\"api\"\u001B[0m\u001B[0;34m]\u001B[0m\u001B[0;34m,\u001B[0m \u001B[0;34m\"created_date\"\u001B[0m\u001B[0;34m:\u001B[0m \u001B[0;34m\"2014-09-10T15:53:50Z\"\u001B[0m\u001B[0;34m,\u001B[0m \u001B[0;34m\"password\"\u001B[0m\u001B[0;34m:\u001B[0m \u001B[0;34m\"pbkdf2:sha256:150000$o6pVxBxY$f8c25903211437b168af63b465c283942a9192f086fa77872a72cdaef0579c91\"\u001B[0m\u001B[0;34m,\u001B[0m \u001B[0;34m\"email\"\u001B[0m\u001B[0;34m:\u001B[0m \u001B[0;34m\"865ba63d3ac9a0a9be7fc8687864cbbca2de0ba24c72bb896157a29aadfc89b1@example.com\"\u001B[0m\u001B[0;34m,\u001B[0m \u001B[0;34m\"es_type\"\u001B[0m\u001B[0;34m:\u001B[0m \u001B[0;34m\"account\"\u001B[0m\u001B[0;34m}\u001B[0m\u001B[0;34m\u001B[0m\u001B[0;34m\u001B[0m\u001B[0m\n\u001B[1;32m      2\u001B[0m \u001B[0;34m\u001B[0m\u001B[0m\n\u001B[0;32m----> 3\u001B[0;31m \u001B[0mes\u001B[0m\u001B[0;34m.\u001B[0m\u001B[0mcreate\u001B[0m\u001B[0;34m(\u001B[0m\u001B[0mindex\u001B[0m\u001B[0;34m=\u001B[0m\u001B[0;34m'doaj-account'\u001B[0m\u001B[0;34m,\u001B[0m \u001B[0mid\u001B[0m\u001B[0;34m=\u001B[0m\u001B[0;34m'steve'\u001B[0m\u001B[0;34m,\u001B[0m \u001B[0mbody\u001B[0m\u001B[0;34m=\u001B[0m\u001B[0msteve\u001B[0m\u001B[0;34m)\u001B[0m\u001B[0;34m\u001B[0m\u001B[0;34m\u001B[0m\u001B[0m\n\u001B[0m\u001B[1;32m      4\u001B[0m \u001B[0;34m\u001B[0m\u001B[0m\n\u001B[1;32m      5\u001B[0m \u001B[0;34m\u001B[0m\u001B[0m\n",
      "\u001B[0;32m~/code/me/es_test/venv/lib/python3.8/site-packages/elasticsearch/client/utils.py\u001B[0m in \u001B[0;36m_wrapped\u001B[0;34m(*args, **kwargs)\u001B[0m\n\u001B[1;32m    151\u001B[0m                 \u001B[0;32mif\u001B[0m \u001B[0mp\u001B[0m \u001B[0;32min\u001B[0m \u001B[0mkwargs\u001B[0m\u001B[0;34m:\u001B[0m\u001B[0;34m\u001B[0m\u001B[0;34m\u001B[0m\u001B[0m\n\u001B[1;32m    152\u001B[0m                     \u001B[0mparams\u001B[0m\u001B[0;34m[\u001B[0m\u001B[0mp\u001B[0m\u001B[0;34m]\u001B[0m \u001B[0;34m=\u001B[0m \u001B[0mkwargs\u001B[0m\u001B[0;34m.\u001B[0m\u001B[0mpop\u001B[0m\u001B[0;34m(\u001B[0m\u001B[0mp\u001B[0m\u001B[0;34m)\u001B[0m\u001B[0;34m\u001B[0m\u001B[0;34m\u001B[0m\u001B[0m\n\u001B[0;32m--> 153\u001B[0;31m             \u001B[0;32mreturn\u001B[0m \u001B[0mfunc\u001B[0m\u001B[0;34m(\u001B[0m\u001B[0;34m*\u001B[0m\u001B[0margs\u001B[0m\u001B[0;34m,\u001B[0m \u001B[0mparams\u001B[0m\u001B[0;34m=\u001B[0m\u001B[0mparams\u001B[0m\u001B[0;34m,\u001B[0m \u001B[0mheaders\u001B[0m\u001B[0;34m=\u001B[0m\u001B[0mheaders\u001B[0m\u001B[0;34m,\u001B[0m \u001B[0;34m**\u001B[0m\u001B[0mkwargs\u001B[0m\u001B[0;34m)\u001B[0m\u001B[0;34m\u001B[0m\u001B[0;34m\u001B[0m\u001B[0m\n\u001B[0m\u001B[1;32m    154\u001B[0m \u001B[0;34m\u001B[0m\u001B[0m\n\u001B[1;32m    155\u001B[0m         \u001B[0;32mreturn\u001B[0m \u001B[0m_wrapped\u001B[0m\u001B[0;34m\u001B[0m\u001B[0;34m\u001B[0m\u001B[0m\n",
      "\u001B[0;32m~/code/me/es_test/venv/lib/python3.8/site-packages/elasticsearch/client/__init__.py\u001B[0m in \u001B[0;36mcreate\u001B[0;34m(self, index, id, body, doc_type, params, headers)\u001B[0m\n\u001B[1;32m    334\u001B[0m             \u001B[0mpath\u001B[0m \u001B[0;34m=\u001B[0m \u001B[0m_make_path\u001B[0m\u001B[0;34m(\u001B[0m\u001B[0mindex\u001B[0m\u001B[0;34m,\u001B[0m \u001B[0mdoc_type\u001B[0m\u001B[0;34m,\u001B[0m \u001B[0mid\u001B[0m\u001B[0;34m,\u001B[0m \u001B[0;34m\"_create\"\u001B[0m\u001B[0;34m)\u001B[0m\u001B[0;34m\u001B[0m\u001B[0;34m\u001B[0m\u001B[0m\n\u001B[1;32m    335\u001B[0m \u001B[0;34m\u001B[0m\u001B[0m\n\u001B[0;32m--> 336\u001B[0;31m         return self.transport.perform_request(\n\u001B[0m\u001B[1;32m    337\u001B[0m             \u001B[0;34m\"PUT\"\u001B[0m\u001B[0;34m,\u001B[0m \u001B[0mpath\u001B[0m\u001B[0;34m,\u001B[0m \u001B[0mparams\u001B[0m\u001B[0;34m=\u001B[0m\u001B[0mparams\u001B[0m\u001B[0;34m,\u001B[0m \u001B[0mheaders\u001B[0m\u001B[0;34m=\u001B[0m\u001B[0mheaders\u001B[0m\u001B[0;34m,\u001B[0m \u001B[0mbody\u001B[0m\u001B[0;34m=\u001B[0m\u001B[0mbody\u001B[0m\u001B[0;34m\u001B[0m\u001B[0;34m\u001B[0m\u001B[0m\n\u001B[1;32m    338\u001B[0m         )\n",
      "\u001B[0;32m~/code/me/es_test/venv/lib/python3.8/site-packages/elasticsearch/transport.py\u001B[0m in \u001B[0;36mperform_request\u001B[0;34m(self, method, url, headers, params, body)\u001B[0m\n\u001B[1;32m    413\u001B[0m                         \u001B[0;32mraise\u001B[0m \u001B[0me\u001B[0m\u001B[0;34m\u001B[0m\u001B[0;34m\u001B[0m\u001B[0m\n\u001B[1;32m    414\u001B[0m                 \u001B[0;32melse\u001B[0m\u001B[0;34m:\u001B[0m\u001B[0;34m\u001B[0m\u001B[0;34m\u001B[0m\u001B[0m\n\u001B[0;32m--> 415\u001B[0;31m                     \u001B[0;32mraise\u001B[0m \u001B[0me\u001B[0m\u001B[0;34m\u001B[0m\u001B[0;34m\u001B[0m\u001B[0m\n\u001B[0m\u001B[1;32m    416\u001B[0m \u001B[0;34m\u001B[0m\u001B[0m\n\u001B[1;32m    417\u001B[0m             \u001B[0;32melse\u001B[0m\u001B[0;34m:\u001B[0m\u001B[0;34m\u001B[0m\u001B[0;34m\u001B[0m\u001B[0m\n",
      "\u001B[0;32m~/code/me/es_test/venv/lib/python3.8/site-packages/elasticsearch/transport.py\u001B[0m in \u001B[0;36mperform_request\u001B[0;34m(self, method, url, headers, params, body)\u001B[0m\n\u001B[1;32m    379\u001B[0m \u001B[0;34m\u001B[0m\u001B[0m\n\u001B[1;32m    380\u001B[0m             \u001B[0;32mtry\u001B[0m\u001B[0;34m:\u001B[0m\u001B[0;34m\u001B[0m\u001B[0;34m\u001B[0m\u001B[0m\n\u001B[0;32m--> 381\u001B[0;31m                 status, headers_response, data = connection.perform_request(\n\u001B[0m\u001B[1;32m    382\u001B[0m                     \u001B[0mmethod\u001B[0m\u001B[0;34m,\u001B[0m\u001B[0;34m\u001B[0m\u001B[0;34m\u001B[0m\u001B[0m\n\u001B[1;32m    383\u001B[0m                     \u001B[0murl\u001B[0m\u001B[0;34m,\u001B[0m\u001B[0;34m\u001B[0m\u001B[0;34m\u001B[0m\u001B[0m\n",
      "\u001B[0;32m~/code/me/es_test/venv/lib/python3.8/site-packages/elasticsearch/connection/http_urllib3.py\u001B[0m in \u001B[0;36mperform_request\u001B[0;34m(self, method, url, params, body, timeout, ignore, headers)\u001B[0m\n\u001B[1;32m    273\u001B[0m                 \u001B[0mmethod\u001B[0m\u001B[0;34m,\u001B[0m \u001B[0mfull_url\u001B[0m\u001B[0;34m,\u001B[0m \u001B[0murl\u001B[0m\u001B[0;34m,\u001B[0m \u001B[0morig_body\u001B[0m\u001B[0;34m,\u001B[0m \u001B[0mduration\u001B[0m\u001B[0;34m,\u001B[0m \u001B[0mresponse\u001B[0m\u001B[0;34m.\u001B[0m\u001B[0mstatus\u001B[0m\u001B[0;34m,\u001B[0m \u001B[0mraw_data\u001B[0m\u001B[0;34m\u001B[0m\u001B[0;34m\u001B[0m\u001B[0m\n\u001B[1;32m    274\u001B[0m             )\n\u001B[0;32m--> 275\u001B[0;31m             \u001B[0mself\u001B[0m\u001B[0;34m.\u001B[0m\u001B[0m_raise_error\u001B[0m\u001B[0;34m(\u001B[0m\u001B[0mresponse\u001B[0m\u001B[0;34m.\u001B[0m\u001B[0mstatus\u001B[0m\u001B[0;34m,\u001B[0m \u001B[0mraw_data\u001B[0m\u001B[0;34m)\u001B[0m\u001B[0;34m\u001B[0m\u001B[0;34m\u001B[0m\u001B[0m\n\u001B[0m\u001B[1;32m    276\u001B[0m \u001B[0;34m\u001B[0m\u001B[0m\n\u001B[1;32m    277\u001B[0m         self.log_request_success(\n",
      "\u001B[0;32m~/code/me/es_test/venv/lib/python3.8/site-packages/elasticsearch/connection/base.py\u001B[0m in \u001B[0;36m_raise_error\u001B[0;34m(self, status_code, raw_data)\u001B[0m\n\u001B[1;32m    320\u001B[0m             \u001B[0mlogger\u001B[0m\u001B[0;34m.\u001B[0m\u001B[0mwarning\u001B[0m\u001B[0;34m(\u001B[0m\u001B[0;34m\"Undecodable raw error response from server: %s\"\u001B[0m\u001B[0;34m,\u001B[0m \u001B[0merr\u001B[0m\u001B[0;34m)\u001B[0m\u001B[0;34m\u001B[0m\u001B[0;34m\u001B[0m\u001B[0m\n\u001B[1;32m    321\u001B[0m \u001B[0;34m\u001B[0m\u001B[0m\n\u001B[0;32m--> 322\u001B[0;31m         raise HTTP_EXCEPTIONS.get(status_code, TransportError)(\n\u001B[0m\u001B[1;32m    323\u001B[0m             \u001B[0mstatus_code\u001B[0m\u001B[0;34m,\u001B[0m \u001B[0merror_message\u001B[0m\u001B[0;34m,\u001B[0m \u001B[0madditional_info\u001B[0m\u001B[0;34m\u001B[0m\u001B[0;34m\u001B[0m\u001B[0m\n\u001B[1;32m    324\u001B[0m         )\n",
      "\u001B[0;31mConflictError\u001B[0m: ConflictError(409, 'version_conflict_engine_exception', '[steve]: version conflict, document already exists (current version [1])')"
     ]
    }
   ],
   "source": [
    "steve = {\"api_key\": \"082d52e9-4e8c-4656-9884-2d7185318cf3\", \"last_updated\": \"2021-04-27T09:49:11Z\", \"marketing_consent\": False, \"id\": \"steve\", \"role\": [\"admin\", \"api\"], \"created_date\": \"2014-09-10T15:53:50Z\", \"password\": \"pbkdf2:sha256:150000$o6pVxBxY$f8c25903211437b168af63b465c283942a9192f086fa77872a72cdaef0579c91\", \"email\": \"865ba63d3ac9a0a9be7fc8687864cbbca2de0ba24c72bb896157a29aadfc89b1@example.com\", \"es_type\": \"account\"}\n",
    "\n",
    "es.create(index='doaj-account', id='steve', body=steve)\n"
   ],
   "metadata": {
    "collapsed": false,
    "pycharm": {
     "name": "#%%\n"
    }
   }
  },
  {
   "cell_type": "markdown",
   "source": [
    "Listing and managing indexes by prefix is easy:"
   ],
   "metadata": {
    "collapsed": false
   }
  },
  {
   "cell_type": "code",
   "execution_count": 10,
   "outputs": [
    {
     "data": {
      "text/plain": "{'doaj-account': {'aliases': {'account': {}},\n  'mappings': {'dynamic_templates': [{'default': {'match': '*',\n      'match_mapping_type': 'string',\n      'mapping': {'fields': {'{name}': {'index': 'analyzed',\n         'store': 'no',\n         'type': '{dynamic_type}'},\n        'exact': {'index': 'not_analyzed',\n         'store': 'yes',\n         'type': '{dynamic_type}'}},\n       'type': 'multi_field'}}}]},\n  'settings': {'index': {'routing': {'allocation': {'include': {'_tier_preference': 'data_content'}}},\n    'number_of_shards': '4',\n    'provided_name': 'doaj-account',\n    'creation_date': '1619963834064',\n    'number_of_replicas': '1',\n    'uuid': 'yJB6W_5URZGpthFRkaK62A',\n    'version': {'created': '7100099'}}}}}"
     },
     "execution_count": 10,
     "metadata": {},
     "output_type": "execute_result"
    }
   ],
   "source": [
    "resp = es.indices.get('_all')\n",
    "es.indices.get('doaj-*')\n",
    "#es.indices.delete('doaj-*')"
   ],
   "metadata": {
    "collapsed": false,
    "pycharm": {
     "name": "#%%\n"
    }
   }
  },
  {
   "cell_type": "code",
   "execution_count": 13,
   "outputs": [],
   "source": [
    "resp = es.indices.get('*')"
   ],
   "metadata": {
    "collapsed": false,
    "pycharm": {
     "name": "#%%\n"
    }
   }
  }
 ],
 "metadata": {
  "kernelspec": {
   "display_name": "Python 3",
   "language": "python",
   "name": "python3"
  },
  "language_info": {
   "codemirror_mode": {
    "name": "ipython",
    "version": 2
   },
   "file_extension": ".py",
   "mimetype": "text/x-python",
   "name": "python",
   "nbconvert_exporter": "python",
   "pygments_lexer": "ipython2",
   "version": "2.7.6"
  }
 },
 "nbformat": 4,
 "nbformat_minor": 0
}